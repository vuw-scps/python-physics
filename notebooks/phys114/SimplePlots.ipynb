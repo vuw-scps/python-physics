{
 "cells": [
  {
   "cell_type": "markdown",
   "metadata": {},
   "source": [
    "## Simple plots\n",
    "\n"
   ]
  },
  {
   "cell_type": "code",
   "execution_count": 1,
   "metadata": {},
   "outputs": [],
   "source": [
    "from matplotlib import pyplot as plt\n",
    "import numpy as np\n"
   ]
  },
  {
   "cell_type": "markdown",
   "metadata": {},
   "source": [
    "## Calculation\n",
    "\n",
    "Code to calculate trajectory of an object undergoing constant acceleration"
   ]
  },
  {
   "cell_type": "code",
   "execution_count": 2,
   "metadata": {},
   "outputs": [],
   "source": [
    "# Set time interval\n",
    "ti = 0\n",
    "tf = 10.0                 # Use 15.0, not 15 to tell Python what kind of variable to use for the time\n",
    "NumPts = 10\n",
    "\n",
    "# Set launch speed and angle, and initial x and y position\n",
    "vi = 90\n",
    "theta = 30*np.pi/180\n",
    "xi = 0                    \n",
    "yi = 0\n",
    "\n",
    "# Calculate components of initial velocity\n",
    "vxi=vi*np.cos(theta)\n",
    "vyi=vi*np.sin(theta)\n",
    "\n",
    "# Define x and y components of acceleration\n",
    "acc_x = 0\n",
    "acc_y = -10\n",
    "\n",
    "# Create a list of values of the time\n",
    "times = np.linspace(ti,tf,NumPts)\t\n",
    "\n",
    "# Calculate position at each time\n",
    "xx = xi + 12*times + 0.5*acc_x*times**2\t\t\t\n",
    "yy = yi + 20*times + 0.5*acc_y*times**2\n"
   ]
  },
  {
   "cell_type": "markdown",
   "metadata": {},
   "source": [
    "## Plot the results\n"
   ]
  },
  {
   "cell_type": "code",
   "execution_count": 3,
   "metadata": {},
   "outputs": [
    {
     "data": {
      "text/plain": [
       "Text(0, 0.5, 'y (m)')"
      ]
     },
     "execution_count": 3,
     "metadata": {},
     "output_type": "execute_result"
    },
    {
     "data": {
      "image/png": "[encoded data removed]",
      "text/plain": [
       "<Figure size 432x288 with 1 Axes>"
      ]
     },
     "metadata": {
      "needs_background": "light"
     },
     "output_type": "display_data"
    }
   ],
   "source": [
    "\n",
    "fig1 = plt.figure()\n",
    "plt.plot(xx,yy,'r*')\n",
    "plt.xlabel('x (m)')\n",
    "plt.ylabel('y (m)')\n",
    "#fig1.savefig('Projectile.jpg')\n"
   ]
  },
  {
   "cell_type": "markdown",
   "metadata": {},
   "source": [
    "_Download this page [as a Jupyter notebook](https://github.com/vuw-scps/python-physics/raw/master/notebooks/phys114/SimplePlots.ipynb) or as a [standalone Python script](https://github.com/vuw-scps/python-physics/raw/master/scripts/phys114/SimplePlots.py)._"
   ]
  }
 ],
 "metadata": {
  "kernelspec": {
   "display_name": "Python 3",
   "language": "python",
   "name": "python3"
  },
  "language_info": {
   "codemirror_mode": {
    "name": "ipython",
    "version": 3
   },
   "file_extension": ".py",
   "mimetype": "text/x-python",
   "name": "python",
   "nbconvert_exporter": "python",
   "pygments_lexer": "ipython3",
   "version": "3.7.6"
  }
 },
 "nbformat": 4,
 "nbformat_minor": 4
}
