{
 "cells": [
  {
   "cell_type": "markdown",
   "metadata": {},
   "source": [
    "## Momentum\n",
    "\n"
   ]
  },
  {
   "cell_type": "markdown",
   "metadata": {},
   "source": [
    "## Setup\n",
    "\n",
    "Loading useful libraries, and defining constants."
   ]
  },
  {
   "cell_type": "code",
   "execution_count": 1,
   "metadata": {},
   "outputs": [],
   "source": [
    "import numpy as np \n",
    "from matplotlib import pyplot as plt \n",
    "\n",
    "V1Bx=3 \t# X-component of Velocity of object 1 before collision \n",
    "V1By=4 \t# Y-component of Velocity of object 1 before collision \n",
    "V2Bx=1 \t# X-component of Velocity of object 2 before collision \n",
    "V2By=0 \t# Y-component of Velocity of object 2 before collision \n"
   ]
  },
  {
   "cell_type": "markdown",
   "metadata": {},
   "source": [
    "## Before collision\n",
    "\n"
   ]
  },
  {
   "cell_type": "code",
   "execution_count": 2,
   "metadata": {},
   "outputs": [],
   "source": [
    "V1B = np.sqrt(V1Bx**2 + V1By**2) \t# Velocity of object 1 before collision \n",
    "QB = np.arctan(V1By/V1Bx) \t\t# angle of motion of object 1 before collision \n",
    "\n",
    "V2B = np.sqrt(V2Bx**2 + V2By**2) \t# Velocity of object 2 before collision \n",
    "QB = np.arctan(V2By/V2Bx) \t\t# angle of motion of object 2 before collision \n",
    "\n",
    "# TOTAL MOMENTUM BEFORE COLLISION FOR X-COMPONENT \n",
    "VTBx = V1Bx + V2Bx \n",
    "\n",
    "# TOTAL MOMENTUM BEFORE COLLISION FOR Y-COMPONENT \n",
    "VTBy = V1By + V2By \n"
   ]
  },
  {
   "cell_type": "markdown",
   "metadata": {},
   "source": [
    "### After collision"
   ]
  },
  {
   "cell_type": "code",
   "execution_count": 3,
   "metadata": {},
   "outputs": [],
   "source": [
    "\n",
    "#Final Velocity of Object 1 \n",
    "V1Ax = 1 # X-component of Velocity of object 1 after collision \n",
    "V1Ay = 1 # Y-component of Velocity of object 1 after collision \n",
    "\n",
    "# Final Velocity of Object 2 \n",
    "V2Ax = 2 # X-component of Velocity of object 2 after collision \n",
    "V2Ay = 2 # Y-component of Velocity of object 2 after collision \n",
    "\n"
   ]
  },
  {
   "cell_type": "markdown",
   "metadata": {},
   "source": [
    "## Plotting\n"
   ]
  },
  {
   "cell_type": "code",
   "execution_count": 4,
   "metadata": {},
   "outputs": [
    {
     "data": {
      "text/plain": [
       "Text(0, 0.5, 'time')"
      ]
     },
     "execution_count": 4,
     "metadata": {},
     "output_type": "execute_result"
    },
    {
     "data": {
      "image/png": "[encoded data removed]",
      "text/plain": [
       "<Figure size 432x288 with 1 Axes>"
      ]
     },
     "metadata": {
      "needs_background": "light"
     },
     "output_type": "display_data"
    }
   ],
   "source": [
    "t=np.linspace(0,5,100) \n",
    "\n",
    "#POSITION FUNCTION OF TIME FOR object 1 after collision \n",
    "P1Ax = V1Ax*t \n",
    "P1Ay = V1Ay*t \n",
    "\n",
    "#Position-time graph of X-component of Velocity of Object 1 After collision \n",
    "fig1 = plt.figure() \n",
    "plt.title ('X-component of Velocity of object 1 after collision') \n",
    "plt.plot(P1Ax,t) \n",
    "plt.xlabel('position') \n",
    "plt.ylabel('time') \n",
    "#fig1.savefig('graph.jpg')\n"
   ]
  },
  {
   "cell_type": "markdown",
   "metadata": {},
   "source": [
    "_Download this page [as a Jupyter notebook](https://github.com/vuw-scps/python-physics/raw/master/notebooks/phys114/Momentum.ipynb) or as a [standalone Python script](https://github.com/vuw-scps/python-physics/raw/master/scripts/phys114/Momentum.py)._"
   ]
  }
 ],
 "metadata": {
  "kernelspec": {
   "display_name": "Python 3",
   "language": "python",
   "name": "python3"
  },
  "language_info": {
   "codemirror_mode": {
    "name": "ipython",
    "version": 3
   },
   "file_extension": ".py",
   "mimetype": "text/x-python",
   "name": "python",
   "nbconvert_exporter": "python",
   "pygments_lexer": "ipython3",
   "version": "3.7.6"
  }
 },
 "nbformat": 4,
 "nbformat_minor": 4
}
