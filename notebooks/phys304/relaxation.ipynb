{
 "cells": [
  {
   "cell_type": "markdown",
   "metadata": {},
   "source": [
    "## Relaxation method to solve the Laplace equation in 2D\n",
    "\n"
   ]
  },
  {
   "cell_type": "code",
   "execution_count": 6,
   "metadata": {},
   "outputs": [],
   "source": [
    "import scipy as sp\n",
    "import numpy as np\n",
    "import matplotlib.pyplot as plt\n",
    "import matplotlib.cm as cm"
   ]
  },
  {
   "cell_type": "markdown",
   "metadata": {},
   "source": [
    "## Rectangular grid\n",
    "\n",
    "We'll calculate the potential on a $N_x\\times N_y$ grid of $(x,y)$ values."
   ]
  },
  {
   "cell_type": "code",
   "execution_count": 7,
   "metadata": {},
   "outputs": [],
   "source": [
    "Nx = 50\n",
    "Ny = 50\n",
    "\n",
    "xv = np.linspace(0, 50, Nx)\n",
    "yv = np.linspace(0, 10, Ny)\n",
    "\n",
    "x, y = np.meshgrid(xv, yv)"
   ]
  },
  {
   "cell_type": "markdown",
   "metadata": {},
   "source": [
    "## Boundary conditions\n"
   ]
  },
  {
   "cell_type": "code",
   "execution_count": 8,
   "metadata": {},
   "outputs": [],
   "source": [
    "\n",
    "## initialise our matrix of potential V with random values\n",
    "V = np.random.rand(Ny+1, Nx+1)\n",
    "\n",
    "## set boundary conditions\n",
    "Vmax = -1.0\n",
    "V[0,:] = 0.0\n",
    "V[Ny,:] = 0.0\n",
    "\n",
    "V[:-1,0] = Vmax*np.sin(3*np.pi*yv/max(yv))\n",
    "V[:,Nx] = 0\n",
    "Vini = V.copy()"
   ]
  },
  {
   "cell_type": "markdown",
   "metadata": {},
   "source": [
    "## Iterations\n",
    "\n",
    "relaxation method: iteratively replace value at point by average of 4 neighbours"
   ]
  },
  {
   "cell_type": "code",
   "execution_count": 9,
   "metadata": {},
   "outputs": [],
   "source": [
    "Niter = 5000\n",
    "Vlist = list() # collect all iterations\n",
    "Vlist.append(V.copy()) # note: make an explicit copy, otherwise we'll get the same object\n",
    "\n",
    "for it in range(1, Niter):\n",
    "    Vtmp = V\n",
    "    for ix in range(1, Nx):\n",
    "        for iy in range(1, Ny):\n",
    "            V[iy,ix] = 0.25*(Vlist[it-1][iy+1,ix] + Vlist[it-1][iy-1,ix] + \n",
    "                                Vlist[it-1][iy,ix+1] + Vlist[it-1][iy,ix-1])\n",
    "    Vlist.append(V.copy()) # save current iteration\n",
    "    "
   ]
  },
  {
   "cell_type": "markdown",
   "metadata": {},
   "source": [
    "## Plotting\n",
    "\n"
   ]
  },
  {
   "cell_type": "code",
   "execution_count": 10,
   "metadata": {},
   "outputs": [
    {
     "data": {
      "image/png": "[encoded data removed]",
      "text/plain": [
       "<Figure size 432x288 with 2 Axes>"
      ]
     },
     "metadata": {
      "needs_background": "light"
     },
     "output_type": "display_data"
    }
   ],
   "source": [
    "fig = plt.figure()\n",
    "ax1 = fig.add_subplot(121)\n",
    "ax1.imshow(Vini, interpolation='nearest', cmap=cm.Greys_r)\n",
    "\n",
    "ax2 = fig.add_subplot(122)\n",
    "ax2.imshow(Vlist[-1], interpolation='nearest', cmap=cm.Greys_r)\n",
    "\n",
    "plt.show()\n"
   ]
  },
  {
   "cell_type": "markdown",
   "metadata": {},
   "source": [
    "_Download this page [as a Jupyter notebook](https://github.com/vuw-scps/python-physics/raw/master/notebooks/phys304/relaxation.ipynb) or as a [standalone Python script](https://github.com/vuw-scps/python-physics/raw/master/scripts/phys304/relaxation.py)._"
   ]
  }
 ],
 "metadata": {
  "kernelspec": {
   "display_name": "Python 3",
   "language": "python",
   "name": "python3"
  },
  "language_info": {
   "codemirror_mode": {
    "name": "ipython",
    "version": 3
   },
   "file_extension": ".py",
   "mimetype": "text/x-python",
   "name": "python",
   "nbconvert_exporter": "python",
   "pygments_lexer": "ipython3",
   "version": "3.7.6"
  }
 },
 "nbformat": 4,
 "nbformat_minor": 4
}
