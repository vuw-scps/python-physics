{
 "cells": [
  {
   "cell_type": "markdown",
   "metadata": {},
   "source": [
    "# Molecular Speeds lab Python data analysis - multiple gas dataset processing"
   ]
  },
  {
   "cell_type": "markdown",
   "metadata": {},
   "source": [
    "Take a look at the example code you have been given - or start to workthrough from here.  \n",
    "\n",
    "Let's begin by importing all the modules we will need at the top of the code and adding in the variables that we know we will need for the analysis.  "
   ]
  },
  {
   "cell_type": "code",
   "execution_count": 1,
   "metadata": {},
   "outputs": [],
   "source": [
    "import numpy as np\n",
    "from matplotlib import pyplot as plt\n",
    "from math import log\n",
    "import math"
   ]
  },
  {
   "cell_type": "code",
   "execution_count": 2,
   "metadata": {},
   "outputs": [],
   "source": [
    "V=2.03*10**-3\n",
    "A=5.55113*10**-8\n",
    "ef_begin=0.26"
   ]
  },
  {
   "cell_type": "markdown",
   "metadata": {},
   "source": [
    "What we are going to do here is run a for loop over all the code we wrote for all files in a specific folder. This will be the folder we are in, so make sure that's where you are and you have all the data from the workshop folder.   "
   ]
  },
  {
   "cell_type": "markdown",
   "metadata": {},
   "source": [
    "To start with we need to import the other modules we are going to use.\n",
    "\n",
    "os (or Miscellaneous Operating system interfaces) Lets us look up file paths and folder locations\n",
    "\n",
    "Glob lets us find all files matching a pattern\n",
    "\n",
    "These are file organisation tools.  You can look up more about them if you like."
   ]
  },
  {
   "cell_type": "code",
   "execution_count": 3,
   "metadata": {},
   "outputs": [],
   "source": [
    "import os\n",
    "import glob"
   ]
  },
  {
   "cell_type": "markdown",
   "metadata": {},
   "source": [
    "The first thing we want to do is set the location of our folder which is where the script is stored i.e. CWD or current working directory."
   ]
  },
  {
   "cell_type": "code",
   "execution_count": 4,
   "metadata": {},
   "outputs": [],
   "source": [
    "folder = os.getcwd()"
   ]
  },
  {
   "cell_type": "markdown",
   "metadata": {},
   "source": [
    "Now we know where the files are stored we need to set the pattern (or type of files) for Glob to look for."
   ]
  },
  {
   "cell_type": "code",
   "execution_count": 5,
   "metadata": {},
   "outputs": [],
   "source": [
    "fileformat=folder+str('/*.csv')"
   ]
  },
  {
   "cell_type": "markdown",
   "metadata": {},
   "source": [
    "This will make the script only look for csv files in the correct folder."
   ]
  },
  {
   "cell_type": "markdown",
   "metadata": {},
   "source": [
    "We now want to create an array of the filenames, these are named after the gasses and mass numbers."
   ]
  },
  {
   "cell_type": "code",
   "execution_count": 6,
   "metadata": {},
   "outputs": [],
   "source": [
    "files = glob.glob(fileformat)"
   ]
  },
  {
   "cell_type": "markdown",
   "metadata": {},
   "source": [
    "Create an array of masses from filenames to use later, as filenames are  strings we need to set them as intergers.  Note that -ve indicies run from the end."
   ]
  },
  {
   "cell_type": "code",
   "execution_count": 7,
   "metadata": {},
   "outputs": [],
   "source": [
    "masses = [int(f[-6:-4]) for f in files]"
   ]
  },
  {
   "cell_type": "markdown",
   "metadata": {},
   "source": [
    "It might not be totally clear what this is doing unless we print the output. "
   ]
  },
  {
   "cell_type": "code",
   "execution_count": 8,
   "metadata": {},
   "outputs": [
    {
     "name": "stdout",
     "output_type": "stream",
     "text": [
      "['C:\\\\Users\\\\plankna\\\\Desktop\\\\PythonWorkshop\\\\Intro_documents\\\\Multiple\\\\Argon 38.csv', 'C:\\\\Users\\\\plankna\\\\Desktop\\\\PythonWorkshop\\\\Intro_documents\\\\Multiple\\\\Carbon Dioxide 40.csv', 'C:\\\\Users\\\\plankna\\\\Desktop\\\\PythonWorkshop\\\\Intro_documents\\\\Multiple\\\\Chlorine 71.csv', 'C:\\\\Users\\\\plankna\\\\Desktop\\\\PythonWorkshop\\\\Intro_documents\\\\Multiple\\\\Fluorine 38.csv', 'C:\\\\Users\\\\plankna\\\\Desktop\\\\PythonWorkshop\\\\Intro_documents\\\\Multiple\\\\Krypton 84.csv', 'C:\\\\Users\\\\plankna\\\\Desktop\\\\PythonWorkshop\\\\Intro_documents\\\\Multiple\\\\Methane 16.csv', 'C:\\\\Users\\\\plankna\\\\Desktop\\\\PythonWorkshop\\\\Intro_documents\\\\Multiple\\\\Neon 17.csv', 'C:\\\\Users\\\\plankna\\\\Desktop\\\\PythonWorkshop\\\\Intro_documents\\\\Multiple\\\\Nitrogen 28.csv', 'C:\\\\Users\\\\plankna\\\\Desktop\\\\PythonWorkshop\\\\Intro_documents\\\\Multiple\\\\Oxygen 32.csv', 'C:\\\\Users\\\\plankna\\\\Desktop\\\\PythonWorkshop\\\\Intro_documents\\\\Multiple\\\\Sulphur Dioxide 64.csv']\n"
     ]
    }
   ],
   "source": [
    "print(files)"
   ]
  },
  {
   "cell_type": "markdown",
   "metadata": {},
   "source": [
    "argh!!!  depending on your filing system this might look horrible..."
   ]
  },
  {
   "cell_type": "code",
   "execution_count": 9,
   "metadata": {},
   "outputs": [
    {
     "name": "stdout",
     "output_type": "stream",
     "text": [
      "[38, 40, 71, 38, 84, 16, 17, 28, 32, 64]\n"
     ]
    }
   ],
   "source": [
    "print(masses)"
   ]
  },
  {
   "cell_type": "markdown",
   "metadata": {},
   "source": [
    "but hopefully this helps to see what has gone on.  We have taken the string from the file name and turned them into an integer.  To do this we counted back from the end of the file name..."
   ]
  },
  {
   "cell_type": "markdown",
   "metadata": {},
   "source": [
    "We now need to find out how many files we have in the folder.  We know how to do that already."
   ]
  },
  {
   "cell_type": "code",
   "execution_count": 10,
   "metadata": {},
   "outputs": [],
   "source": [
    "n=len(files)"
   ]
  },
  {
   "cell_type": "markdown",
   "metadata": {},
   "source": [
    "We also need to create an empty array to populate later."
   ]
  },
  {
   "cell_type": "code",
   "execution_count": 11,
   "metadata": {},
   "outputs": [],
   "source": [
    "v=np.zeros(n)"
   ]
  },
  {
   "cell_type": "markdown",
   "metadata": {},
   "source": [
    "We now want to simply run though the previous code (in the single gas experiment) for all of the files in the folder."
   ]
  },
  {
   "cell_type": "code",
   "execution_count": 12,
   "metadata": {},
   "outputs": [],
   "source": [
    "for j in range(n):\n",
    "\n",
    "    #we need to indent all this code and change the argument in genfromtext \n",
    "    #to files[j] \n",
    "    \n",
    "    rawdata=np.genfromtxt(files[j], delimiter=',')\n",
    "    time=rawdata[:,0]\n",
    "    pressure=rawdata[:,1]\n",
    "    baseP=min(rawdata[:,1])\n",
    "    P_minus_baseP=[i-0.99*baseP for i in pressure]\n",
    "    res=[abs(i-ef_begin) for i in P_minus_baseP]\n",
    "    minres=min(res)\n",
    "    for i in range (len(res)):\n",
    "        if res[i]==minres:\n",
    "            Peff_index=i\n",
    "            break\n",
    "    LogP=[log(i) for i in P_minus_baseP]\n",
    "    fit=np.polyfit(time[Peff_index:1400],LogP[Peff_index:1400],1)\n",
    "    m=fit[0]\n",
    "    c=fit[1]\n",
    "    "
   ]
  },
  {
   "cell_type": "markdown",
   "metadata": {},
   "source": [
    "note, we no longer have cats... ;-)"
   ]
  },
  {
   "cell_type": "markdown",
   "metadata": {},
   "source": [
    "compare this to your previous code.  It is the same, just compressed.\n",
    "\n",
    "Now I am adding on to this and plotting the data."
   ]
  },
  {
   "cell_type": "code",
   "execution_count": 15,
   "metadata": {},
   "outputs": [
    {
     "data": {
      "text/plain": [
       "<matplotlib.collections.PathCollection at 0x2501a8d68d0>"
      ]
     },
     "execution_count": 15,
     "metadata": {},
     "output_type": "execute_result"
    },
    {
     "data": {
      "image/png": "[encoded data removed]",
      "text/plain": [
       "<Figure size 432x288 with 1 Axes>"
      ]
     },
     "metadata": {
      "needs_background": "light"
     },
     "output_type": "display_data"
    }
   ],
   "source": [
    "for j in range(n):\n",
    "\n",
    "    #we need to indent all this code and change the argument in genfromtext \n",
    "    #to files[j] \n",
    "    \n",
    "    rawdata=np.genfromtxt(files[j], delimiter=',')\n",
    "    time=rawdata[:,0]\n",
    "    pressure=rawdata[:,1]\n",
    "    baseP=min(rawdata[:,1])\n",
    "    P_minus_baseP=[i-0.99*baseP for i in pressure]\n",
    "    res=[abs(i-ef_begin) for i in P_minus_baseP]\n",
    "    minres=min(res)\n",
    "    for i in range (len(res)):\n",
    "        if res[i]==minres:\n",
    "            Peff_index=i\n",
    "            break\n",
    "    LogP=[log(i) for i in P_minus_baseP]\n",
    "    fit=np.polyfit(time[Peff_index:1400],LogP[Peff_index:1400],1)\n",
    "    m=fit[0]\n",
    "    c=fit[1]\n",
    "    \n",
    "    \n",
    "    #now we put each of these in one of the spots in the vector v\n",
    "    \n",
    "    v[j]=-4*V*m/A\n",
    "\n",
    "\n",
    "#now lets print v\n",
    "\n",
    "######################print(v)\n",
    "\n",
    "#we can then plot v as a function of mass number\n",
    "\n",
    "plt.scatter(masses,v)\n",
    "\n",
    "#we can now create a theoritical line to match these to\n",
    "\n",
    "#first we need a range of mass numbers\n",
    "    \n",
    "    \n",
    "    "
   ]
  },
  {
   "cell_type": "code",
   "execution_count": 16,
   "metadata": {},
   "outputs": [
    {
     "data": {
      "text/plain": [
       "Text(0, 0.5, 'Velocity')"
      ]
     },
     "execution_count": 16,
     "metadata": {},
     "output_type": "execute_result"
    },
    {
     "data": {
      "image/png": "[encoded data removed]",
      "text/plain": [
       "<Figure size 432x288 with 1 Axes>"
      ]
     },
     "metadata": {
      "needs_background": "light"
     },
     "output_type": "display_data"
    }
   ],
   "source": [
    "#now we simply complete the theoritical calculation\n",
    "\n",
    "vtheory=[math.sqrt(8/math.pi*1.38*(10**-23)*300/i/(1.67*10**-27)) for i in range(10,90)]\n",
    "\n",
    "#and plot the result on our plot\n",
    "\n",
    "plt.plot(range(10,90),vtheory,'k--')\n",
    "\n",
    "#we can add some labels\n",
    "\n",
    "plt.xlabel('Mass Number')\n",
    "plt.ylabel('Velocity')"
   ]
  },
  {
   "cell_type": "markdown",
   "metadata": {},
   "source": [
    "Putting these last two parts together we find (this will be what comes up in Spyder."
   ]
  },
  {
   "cell_type": "code",
   "execution_count": 17,
   "metadata": {},
   "outputs": [
    {
     "data": {
      "text/plain": [
       "Text(0, 0.5, 'Velocity')"
      ]
     },
     "execution_count": 17,
     "metadata": {},
     "output_type": "execute_result"
    },
    {
     "data": {
      "image/png": "[encoded data removed]",
      "text/plain": [
       "<Figure size 432x288 with 1 Axes>"
      ]
     },
     "metadata": {
      "needs_background": "light"
     },
     "output_type": "display_data"
    }
   ],
   "source": [
    "for j in range(n):\n",
    "\n",
    "    #we need to indent all this code and change the argument in genfromtext \n",
    "    #to files[j] \n",
    "    \n",
    "    rawdata=np.genfromtxt(files[j], delimiter=',')\n",
    "    time=rawdata[:,0]\n",
    "    pressure=rawdata[:,1]\n",
    "    baseP=min(rawdata[:,1])\n",
    "    P_minus_baseP=[i-0.99*baseP for i in pressure]\n",
    "    res=[abs(i-ef_begin) for i in P_minus_baseP]\n",
    "    minres=min(res)\n",
    "    for i in range (len(res)):\n",
    "        if res[i]==minres:\n",
    "            Peff_index=i\n",
    "            break\n",
    "    LogP=[log(i) for i in P_minus_baseP]\n",
    "    fit=np.polyfit(time[Peff_index:1400],LogP[Peff_index:1400],1)\n",
    "    m=fit[0]\n",
    "    c=fit[1]\n",
    "    \n",
    "    \n",
    "    #now we put each of these in one of the spots in the vector v\n",
    "    \n",
    "    v[j]=-4*V*m/A\n",
    "\n",
    "\n",
    "#now lets print v\n",
    "\n",
    "######################print(v)\n",
    "\n",
    "#we can then plot v as a function of mass number\n",
    "\n",
    "plt.scatter(masses,v)\n",
    "\n",
    "#we can now create a theoritical line to match these to\n",
    "\n",
    "#first we need a range of mass numbers\n",
    "\n",
    "\n",
    "\n",
    "#now we simply complete the theoritical calculation\n",
    "\n",
    "vtheory=[math.sqrt(8/math.pi*1.38*(10**-23)*300/i/(1.67*10**-27)) for i in range(10,90)]\n",
    "\n",
    "#and plot the result on our plot\n",
    "\n",
    "plt.plot(range(10,90),vtheory,'k--')\n",
    "\n",
    "#we can add some labels\n",
    "\n",
    "plt.xlabel('Mass Number')\n",
    "plt.ylabel('Velocity')"
   ]
  },
  {
   "cell_type": "code",
   "execution_count": null,
   "metadata": {},
   "outputs": [],
   "source": []
  }
 ],
 "metadata": {
  "kernelspec": {
   "display_name": "Python 3",
   "language": "python",
   "name": "python3"
  },
  "language_info": {
   "codemirror_mode": {
    "name": "ipython",
    "version": 3
   },
   "file_extension": ".py",
   "mimetype": "text/x-python",
   "name": "python",
   "nbconvert_exporter": "python",
   "pygments_lexer": "ipython3",
   "version": "3.7.1"
  }
 },
 "nbformat": 4,
 "nbformat_minor": 2
}
