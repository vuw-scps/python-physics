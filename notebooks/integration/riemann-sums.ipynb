{
 "cells": [
  {
   "cell_type": "markdown",
   "metadata": {},
   "source": [
    "# Riemann Sums"
   ]
  },
  {
   "cell_type": "code",
   "execution_count": 1,
   "metadata": {},
   "outputs": [],
   "source": [
    "import numpy as np\n",
    "import matplotlib.pyplot as plt\n",
    "%matplotlib inline"
   ]
  },
  {
   "cell_type": "markdown",
   "metadata": {},
   "source": [
    "## Definition\n",
    "\n",
    "A [Riemann sum](https://en.wikipedia.org/wiki/Riemann_sum) of a function $f(x)$ over a partition\n",
    "\n",
    "$$\n",
    "x_0 = a < x_1 < \\cdots < x_{N-1} < x_N = b\n",
    "$$\n",
    "\n",
    "is a sum of the form\n",
    "\n",
    "$$\n",
    "\\sum_{i=1}^N f(x_i^ * ) (x_i - x_{i-1}) \\ \\ , \\ x_i^* \\in [x_{i-1},x_i]\n",
    "$$\n",
    "\n",
    "where each value $x_i^* \\in [x_{i-1},x_i]$ in each subinterval is arbitrary.\n",
    "\n",
    "Riemann sums are important because they provide an easy way to approximate a definite integral\n",
    "\n",
    "$$\n",
    "\\int_a^b f(x) \\, dx \\approx \\sum_{i=1}^N f(x_i^ * ) (x_i - x_{i-1}) \\ \\ , \\ x_i^* \\in [x_{i-1},x_i]\n",
    "$$\n",
    "\n",
    "Notice that the product $f(x_i^ * ) (x_i - x_{i-1})$ for each $i$ is the area of a rectangle of height $f(x_i^ * )$ and width $x_i - x_{i-1}$. We can think of a Riemann sum as the area of $N$ rectangles with heights determined by the graph of $y=f(x)$.\n",
    "\n",
    "The value $x_i^*$ chosen in each subinterval is arbitrary however there are certain obvious choices:\n",
    "\n",
    "* A *left* Riemann sum is when each $x_i^* = x_{i-1}$ is the left endpoint of the subinterval $[x_{i-1},x_i]$\n",
    "* A *right* Riemann sum is when each $x_i^* = x_i$ is the right endpoint of the subinterval $[x_{i-1},x_i]$\n",
    "* A *midpoint* Riemann sum is when each $x_i^* = (x_{i-1} + x_i)/2$ is the midpoint of the subinterval $[x_{i-1},x_i]$\n",
    "\n",
    "Let's visualize rectangles in the left, right and midpoint Riemann sums for the function\n",
    "\n",
    "$$\n",
    "f(x) = \\frac{1}{1 + x^2}\n",
    "$$\n",
    "\n",
    "over the interval $[0,5]$ with a partition of size $N=10$."
   ]
  },
  {
   "cell_type": "code",
   "execution_count": 2,
   "metadata": {},
   "outputs": [
    {
     "data": {
      "image/png": "[encoded data removed]",
      "text/plain": [
       "<Figure size 1080x360 with 3 Axes>"
      ]
     },
     "metadata": {
      "needs_background": "light"
     },
     "output_type": "display_data"
    }
   ],
   "source": [
    "f = lambda x : 1/(1+x**2)\n",
    "a = 0; b = 5; N = 10\n",
    "n = 10 # Use n*N+1 points to plot the function smoothly\n",
    "\n",
    "x = np.linspace(a,b,N+1)\n",
    "y = f(x)\n",
    "\n",
    "X = np.linspace(a,b,n*N+1)\n",
    "Y = f(X)\n",
    "\n",
    "plt.figure(figsize=(15,5))\n",
    "\n",
    "plt.subplot(1,3,1)\n",
    "plt.plot(X,Y,'b')\n",
    "x_left = x[:-1] # Left endpoints\n",
    "y_left = y[:-1]\n",
    "plt.plot(x_left,y_left,'b.',markersize=10)\n",
    "plt.bar(x_left,y_left,width=(b-a)/N,alpha=0.2,align='edge',edgecolor='b')\n",
    "plt.title('Left Riemann Sum, N = {}'.format(N))\n",
    "\n",
    "plt.subplot(1,3,2)\n",
    "plt.plot(X,Y,'b')\n",
    "x_mid = (x[:-1] + x[1:])/2 # Midpoints\n",
    "y_mid = f(x_mid)\n",
    "plt.plot(x_mid,y_mid,'b.',markersize=10)\n",
    "plt.bar(x_mid,y_mid,width=(b-a)/N,alpha=0.2,edgecolor='b')\n",
    "plt.title('Midpoint Riemann Sum, N = {}'.format(N))\n",
    "\n",
    "plt.subplot(1,3,3)\n",
    "plt.plot(X,Y,'b')\n",
    "x_right = x[1:] # Left endpoints\n",
    "y_right = y[1:]\n",
    "plt.plot(x_right,y_right,'b.',markersize=10)\n",
    "plt.bar(x_right,y_right,width=-(b-a)/N,alpha=0.2,align='edge',edgecolor='b')\n",
    "plt.title('Right Riemann Sum, N = {}'.format(N))\n",
    "\n",
    "plt.show()"
   ]
  },
  {
   "cell_type": "markdown",
   "metadata": {},
   "source": [
    "Notice that when the function $f(x)$ is decreasing on $[a,b]$ the left endpoints give an overestimate of the integral $\\int_a^b f(x) dx$ and right endpoints give an underestimate. The opposite is true is when the function is increasing."
   ]
  },
  {
   "cell_type": "markdown",
   "metadata": {},
   "source": [
    "Let's compute the value of each of the Riemann sums:"
   ]
  },
  {
   "cell_type": "code",
   "execution_count": 3,
   "metadata": {},
   "outputs": [
    {
     "name": "stdout",
     "output_type": "stream",
     "text": [
      "Partition with 10 subintervals.\n",
      "Left Riemann Sum: 1.613488696614725\n",
      "Midpoint Riemann Sum: 1.373543428316664\n",
      "Right Riemann Sum: 1.1327194658454942\n"
     ]
    }
   ],
   "source": [
    "dx = (b-a)/N\n",
    "x_left = np.linspace(a,b-dx,N)\n",
    "x_midpoint = np.linspace(dx/2,b - dx/2,N)\n",
    "x_right = np.linspace(dx,b,N)\n",
    "\n",
    "print(\"Partition with\",N,\"subintervals.\")\n",
    "left_riemann_sum = np.sum(f(x_left) * dx)\n",
    "print(\"Left Riemann Sum:\",left_riemann_sum)\n",
    "\n",
    "midpoint_riemann_sum = np.sum(f(x_midpoint) * dx)\n",
    "print(\"Midpoint Riemann Sum:\",midpoint_riemann_sum)\n",
    "\n",
    "right_riemann_sum = np.sum(f(x_right) * dx)\n",
    "print(\"Right Riemann Sum:\",right_riemann_sum)"
   ]
  },
  {
   "cell_type": "markdown",
   "metadata": {},
   "source": [
    "We know the exact value\n",
    "\n",
    "$$\n",
    "\\int_0^5 \\frac{1}{1 + x^2} dx = \\arctan(5)\n",
    "$$\n",
    "\n",
    "and we can compare the Riemann sums to the value"
   ]
  },
  {
   "cell_type": "code",
   "execution_count": 4,
   "metadata": {},
   "outputs": [
    {
     "name": "stdout",
     "output_type": "stream",
     "text": [
      "1.373400766945016\n"
     ]
    }
   ],
   "source": [
    "I = np.arctan(5)\n",
    "print(I)"
   ]
  },
  {
   "cell_type": "code",
   "execution_count": 5,
   "metadata": {},
   "outputs": [
    {
     "name": "stdout",
     "output_type": "stream",
     "text": [
      "Left Riemann Sum Error: 0.24008792966970915\n",
      "Midpoint Riemann Sum: 0.00014266137164820059\n",
      "Right Riemann Sum: 0.24068130109952168\n"
     ]
    }
   ],
   "source": [
    "print(\"Left Riemann Sum Error:\",np.abs(left_riemann_sum - I))\n",
    "print(\"Midpoint Riemann Sum:\",np.abs(midpoint_riemann_sum - I))\n",
    "print(\"Right Riemann Sum:\",np.abs(right_riemann_sum - I))"
   ]
  },
  {
   "cell_type": "markdown",
   "metadata": {},
   "source": [
    "## Error Formulas\n",
    "\n",
    "A Riemann sum is an approximation of a definite integral. A natural question arises: how good of an approximation is a Riemann sum?\n",
    "\n",
    "---\n",
    "\n",
    "**Theorem.** Let $L_N(f)$ denote the left Riemann sum\n",
    "\n",
    "$$\n",
    "L_N(f) = \\sum_{i=1}^N f(x_{i-1} ) \\Delta x\n",
    "$$\n",
    "\n",
    "where $\\Delta x = (b-a)/N$ and $x_i = a + i \\Delta x$. The error bound is\n",
    "\n",
    "$$\n",
    "E_N^{L}(f) = \\left| \\ \\int_a^b f(x) \\ dx - L_N(f) \\ \\right| \\leq \\frac{(b-a)^2}{2 N} K_1\n",
    "$$\n",
    "\n",
    "where $\\left| \\, f'(x) \\, \\right| \\leq K_1$ for all $x \\in [a,b]$.\n",
    "\n",
    "---\n",
    "\n",
    "**Theorem.** Let $R_N(f)$ denote the right Riemann sum\n",
    "\n",
    "$$\n",
    "R_N(f) = \\sum_{i=1}^N f(x_{i} ) \\Delta x\n",
    "$$\n",
    "\n",
    "where $\\Delta x = (b-a)/N$ and $x_i = a + i \\Delta x$. The error bound is\n",
    "\n",
    "$$\n",
    "E_N^{R}(f) = \\left| \\ \\int_a^b f(x) \\ dx - R_N(f) \\ \\right| \\leq \\frac{(b-a)^2}{2 N} K_1\n",
    "$$\n",
    "\n",
    "where $\\left| \\, f'(x) \\, \\right| \\leq K_1$ for all $x \\in [a,b]$.\n",
    "\n",
    "---\n",
    "\n",
    "**Theorem.** Let $M_N(f)$ denote the midpoint Riemann sum\n",
    "\n",
    "$$\n",
    "M_N(f) = \\sum_{i=1}^N f(x_i^* ) \\Delta x\n",
    "$$\n",
    "\n",
    "where $\\Delta x = (b-a)/N$ and $x_i^* = (x_{i-1} + x_i)/2$ for $x_i = a + i \\Delta x$. The error bound is \n",
    "\n",
    "\n",
    "$$\n",
    "E_N^{M}(f) = \\left| \\ \\int_a^b f(x) \\ dx - M_N(f) \\ \\right| \\leq \\frac{(b-a)^3}{24 N^2} K_2\n",
    "$$\n",
    "\n",
    "where $\\left| \\, f''(x) \\, \\right| \\leq K_2$ for all $x \\in [a,b]$.\n",
    "\n",
    "---"
   ]
  },
  {
   "cell_type": "markdown",
   "metadata": {},
   "source": [
    "There are several points to notice:\n",
    "\n",
    "* Left and right Riemann sums have the same error bound which depends on the first derivative $f'(x)$.\n",
    "* Midpoint Riemann sum error bound depends on the second derivative $f''(x)$.\n",
    "* We expect the midpoint Riemann sum to give a better approximation as $N \\to \\infty$ since its error bound is inversely proportional to $N^2$ but left/right Riemann sum error bound is inversely proportional only to $N$."
   ]
  },
  {
   "cell_type": "markdown",
   "metadata": {},
   "source": [
    "## Implementation\n",
    "\n",
    "Let's write a function called `riemann_sum` which takes 5 input parameters `f`, `a`, `b`, `N` and `method` and returns the Riemann sum\n",
    "\n",
    "$$\n",
    "\\sum_{i=1}^N f(x_i^*) \\Delta x\n",
    "$$\n",
    "\n",
    "where $\\Delta x = (b-a)/N$ and $x_i = a + i\\Delta x$ defines a partition with $N$ subintervals of *equal length*, and `method` determines whether we use *left* endpoints, *right* endpoints or *midpoints* (with midpoints as the default method)."
   ]
  },
  {
   "cell_type": "code",
   "execution_count": 6,
   "metadata": {},
   "outputs": [],
   "source": [
    "def riemann_sum(f,a,b,N,method='midpoint'):\n",
    "    '''Compute the Riemann sum of f(x) over the interval [a,b].\n",
    "\n",
    "    Parameters\n",
    "    ----------\n",
    "    f : function\n",
    "        Vectorized function of one variable\n",
    "    a , b : numbers\n",
    "        Endpoints of the interval [a,b]\n",
    "    N : integer\n",
    "        Number of subintervals of equal length in the partition of [a,b]\n",
    "    method : string\n",
    "        Determines the kind of Riemann sum:\n",
    "        right : Riemann sum using right endpoints\n",
    "        left : Riemann sum using left endpoints\n",
    "        midpoint (default) : Riemann sum using midpoints\n",
    "\n",
    "    Returns\n",
    "    -------\n",
    "    float\n",
    "        Approximation of the integral given by the Riemann sum.\n",
    "    '''\n",
    "    dx = (b - a)/N\n",
    "    x = np.linspace(a,b,N+1)\n",
    "    \n",
    "    if method == 'left':\n",
    "        x_left = x[:-1]\n",
    "        return np.sum(f(x_left)*dx)\n",
    "    elif method == 'right':\n",
    "        x_right = x[1:]\n",
    "        return np.sum(f(x_right)*dx)\n",
    "    elif method == 'midpoint':\n",
    "        x_mid = (x[:-1] + x[1:])/2\n",
    "        return np.sum(f(x_mid)*dx)\n",
    "    else:\n",
    "        raise ValueError(\"Method must be 'left', 'right' or 'midpoint'.\")"
   ]
  },
  {
   "cell_type": "markdown",
   "metadata": {},
   "source": [
    "Let's test our function with inputs where we know exactly what the output should be. For example, we know\n",
    "\n",
    "$$\n",
    "\\int_0^{\\pi/2} \\sin(x) \\, dx = 1\n",
    "$$\n",
    "\n",
    "and, since $\\sin(x)$ is increasing on $[0,\\pi/2]$, we know that left endpoints will give an under-estimate, and right endpoints will give an over-estimate."
   ]
  },
  {
   "cell_type": "code",
   "execution_count": 7,
   "metadata": {},
   "outputs": [
    {
     "data": {
      "text/plain": [
       "1.0000102809119054"
      ]
     },
     "execution_count": 7,
     "metadata": {},
     "output_type": "execute_result"
    }
   ],
   "source": [
    "riemann_sum(np.sin,0,np.pi/2,100)"
   ]
  },
  {
   "cell_type": "code",
   "execution_count": 8,
   "metadata": {},
   "outputs": [
    {
     "data": {
      "text/plain": [
       "1.007833419873582"
      ]
     },
     "execution_count": 8,
     "metadata": {},
     "output_type": "execute_result"
    }
   ],
   "source": [
    "riemann_sum(np.sin,0,np.pi/2,100,'right')"
   ]
  },
  {
   "cell_type": "code",
   "execution_count": 9,
   "metadata": {},
   "outputs": [
    {
     "data": {
      "text/plain": [
       "0.992125456605633"
      ]
     },
     "execution_count": 9,
     "metadata": {},
     "output_type": "execute_result"
    }
   ],
   "source": [
    "riemann_sum(np.sin,0,np.pi/2,100,'left')"
   ]
  },
  {
   "cell_type": "markdown",
   "metadata": {},
   "source": [
    "We also know that $\\int_0^1 x \\, dx = 1/2$ and midpoint should give the result exactly for any $N$:"
   ]
  },
  {
   "cell_type": "code",
   "execution_count": 10,
   "metadata": {},
   "outputs": [
    {
     "data": {
      "text/plain": [
       "0.5"
      ]
     },
     "execution_count": 10,
     "metadata": {},
     "output_type": "execute_result"
    }
   ],
   "source": [
    "riemann_sum(lambda x : x,0,1,1)"
   ]
  },
  {
   "cell_type": "markdown",
   "metadata": {},
   "source": [
    "## Examples"
   ]
  },
  {
   "cell_type": "markdown",
   "metadata": {},
   "source": [
    "### Approximate Pi\n",
    "\n",
    "Find a value $N$ which guarantees the right Riemann sum of $f(x)=\\frac{4}{1 + x^2}$ over $[0,1]$ is within $10^{-5}$ of the exact value\n",
    "\n",
    "$$\n",
    "\\int_0^1 \\frac{4}{1 + x^2} dx = \\pi\n",
    "$$\n",
    "\n",
    "Compute\n",
    "\n",
    "$$\n",
    "f'(x) = -\\frac{8x}{(1+x^2)^2}\n",
    "$$\n",
    "\n",
    "Use brute force optimization to find a bound on $\\left| f'(x) \\right|$ on $[0,1]$:"
   ]
  },
  {
   "cell_type": "code",
   "execution_count": 11,
   "metadata": {},
   "outputs": [
    {
     "data": {
      "text/plain": [
       "2.5980759093919907"
      ]
     },
     "execution_count": 11,
     "metadata": {},
     "output_type": "execute_result"
    }
   ],
   "source": [
    "x = np.linspace(0,1,1000)\n",
    "y = np.abs(-8*x/(1 + x**2)**2)\n",
    "np.max(y)"
   ]
  },
  {
   "cell_type": "markdown",
   "metadata": {},
   "source": [
    "Therefore, $\\left| f'(x) \\right| \\leq 2.6$ for $x \\in [0,1]$. Use the error bound\n",
    "\n",
    "$$\n",
    "\\frac{(b-a)^2}{2 N} K_1 \\leq 10^{-5} \\ \\Rightarrow \\ \\frac{1.3}{N} \\leq 10^{-5} \\ \\Rightarrow \\ 130000 \\leq N\n",
    "$$\n",
    "\n",
    "Let's compute the right Riemann sum for $N=130000$:"
   ]
  },
  {
   "cell_type": "code",
   "execution_count": 12,
   "metadata": {},
   "outputs": [
    {
     "name": "stdout",
     "output_type": "stream",
     "text": [
      "3.1415849612722386\n"
     ]
    }
   ],
   "source": [
    "approximation = riemann_sum(lambda x : 4/(1 + x**2),0,1,130000,method='right')\n",
    "print(approximation)"
   ]
  },
  {
   "cell_type": "markdown",
   "metadata": {},
   "source": [
    "Verify the accuracy of the approximation"
   ]
  },
  {
   "cell_type": "code",
   "execution_count": 13,
   "metadata": {},
   "outputs": [
    {
     "data": {
      "text/plain": [
       "True"
      ]
     },
     "execution_count": 13,
     "metadata": {},
     "output_type": "execute_result"
    }
   ],
   "source": [
    "np.abs(approximation - np.pi) < 10**(-5)"
   ]
  },
  {
   "cell_type": "markdown",
   "metadata": {},
   "source": [
    "### Approximate ln(2)\n",
    "\n",
    "Find a value $N$ which guarantees the midpoint Riemann sum of $f(x)=\\frac{1}{x}$ over $[1,2]$ is within $10^{-8}$ of the exact value\n",
    "\n",
    "$$\n",
    "\\int_1^2 \\frac{1}{x} dx = \\ln(2)\n",
    "$$\n",
    "\n",
    "Compute\n",
    "\n",
    "$$\n",
    "f''(x) = \\frac{2}{x^3}\n",
    "$$\n",
    "\n",
    "Since $f''(x)$ is decreasing for all $x>0$ we have $\\left| \\, f''(x) \\, \\right| \\leq 2$ for all $x \\in [1,2]$. Use the error bound:\n",
    "\n",
    "$$\n",
    "\\frac{(b-a)^3}{24 N^2} K_2 \\leq 10^{-8} \\ \\Rightarrow \\ \\frac{1}{12 N^2} \\leq 10^{-8} \\ \\Rightarrow \\frac{10^4}{\\sqrt{12}} \\leq N\n",
    "$$"
   ]
  },
  {
   "cell_type": "code",
   "execution_count": 14,
   "metadata": {},
   "outputs": [
    {
     "data": {
      "text/plain": [
       "2886.751345948129"
      ]
     },
     "execution_count": 14,
     "metadata": {},
     "output_type": "execute_result"
    }
   ],
   "source": [
    "10**4 / np.sqrt(12)"
   ]
  },
  {
   "cell_type": "markdown",
   "metadata": {
    "collapsed": true
   },
   "source": [
    "Therefore a partition of size $N=2887$ guarantees the desired accuracy:"
   ]
  },
  {
   "cell_type": "code",
   "execution_count": 15,
   "metadata": {},
   "outputs": [
    {
     "name": "stdout",
     "output_type": "stream",
     "text": [
      "0.6931471768105913\n"
     ]
    }
   ],
   "source": [
    "approximation = riemann_sum(lambda x : 1/x,1,2,2887,method='midpoint')\n",
    "print(approximation)"
   ]
  },
  {
   "cell_type": "markdown",
   "metadata": {},
   "source": [
    "Verify the accuracy of the approximation:"
   ]
  },
  {
   "cell_type": "code",
   "execution_count": 16,
   "metadata": {},
   "outputs": [
    {
     "data": {
      "text/plain": [
       "True"
      ]
     },
     "execution_count": 16,
     "metadata": {},
     "output_type": "execute_result"
    }
   ],
   "source": [
    "np.abs(approximation - np.log(2)) < 10**(-8)"
   ]
  },
  {
   "cell_type": "markdown",
   "metadata": {},
   "source": [
    "## Exercises\n",
    "\n",
    "1. Consider the integral\n",
    "\n",
    "    $$\n",
    "    \\int_1^2 \\frac{dx}{1+x^3}\n",
    "    $$\n",
    "    \n",
    "    **Without plotting the functions** $f(x)$, $f'(x)$ or $f''(x)$, find a value $N$ such that $E_N^R(f) \\leq 10^{-5}$ given\n",
    "    \n",
    "    $$\n",
    "    f(x) = \\frac{1}{1 + x^3} \\ , \\ f'(x) = -\\frac{3 x^{2}}{\\left(x^{3} + 1\\right)^{2}} \\ , \\ f''(x) = \\frac{6 x \\left(2 x^{3} - 1\\right)}{\\left(x + 1\\right)^{3} \\left(x^{2} - x + 1\\right)^{3}} \\\\\\\\\n",
    "    $$\n",
    "\n",
    "2. Plot the function $f''(x)$ from the previous question on the interval $[1,2]$ and find a value $N$ such that $E_N^M(f) \\leq 10^{-5}$ for the integral in the previous question.\n",
    "\n",
    "3. Let $f(x) = x^x$ and note that\n",
    "\n",
    "    $$\n",
    "    f'(x) = x^{x} \\left(\\log{\\left(x \\right)} + 1\\right) \\ , \\ f''(x) = x^{x} \\left(\\log{\\left(x \\right)} + 1\\right)^{2} + x^{x-1}\n",
    "    $$\n",
    "    \n",
    "    Plot the function $f''(x)$ and use that information to compute $T_N(f)$ for the integral\n",
    "    \n",
    "    $$\n",
    "    \\int_1^2 x^x \\, dx\n",
    "    $$\n",
    "    \n",
    "    such that $E_N^T(f) \\leq 10^{-3}$."
   ]
  }
 ],
 "metadata": {
  "kernelspec": {
   "display_name": "Python 3",
   "language": "python",
   "name": "python3"
  },
  "language_info": {
   "codemirror_mode": {
    "name": "ipython",
    "version": 3
   },
   "file_extension": ".py",
   "mimetype": "text/x-python",
   "name": "python",
   "nbconvert_exporter": "python",
   "pygments_lexer": "ipython3",
   "version": "3.7.3"
  }
 },
 "nbformat": 4,
 "nbformat_minor": 2
}
