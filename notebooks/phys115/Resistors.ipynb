{
 "cells": [
  {
   "cell_type": "markdown",
   "metadata": {},
   "source": [
    "## Resistors\n",
    "\n"
   ]
  },
  {
   "cell_type": "markdown",
   "metadata": {},
   "source": [
    "## Setup\n",
    "\n",
    "Loading useful libraries, and defining constants."
   ]
  },
  {
   "cell_type": "code",
   "execution_count": 1,
   "metadata": {},
   "outputs": [],
   "source": [
    "from matplotlib import pyplot as plt\n",
    "import numpy as np\n",
    "\n",
    "\n",
    "R1=820      #input resistance 1\n",
    "R2=33.1     #input resistance 2\n",
    "R3=150      #input resistance 3\n",
    "\n",
    "#using a factor to define the type of circuit\n",
    "a=0         # put 1 if using circuit 1, 0 if otherwise\n",
    "b=0         # put 1 if using circuit 2, 0 if otherwise\n",
    "c=1         # put 1 if using circuit 3, 0 if otherwise\n",
    "d=0         # put 1 if using circuit 4, 0 if otherwise\n",
    "\n",
    "\n",
    "VT=2.5      # input voltage"
   ]
  },
  {
   "cell_type": "markdown",
   "metadata": {},
   "source": [
    "## Calculations\n",
    "\n"
   ]
  },
  {
   "cell_type": "code",
   "execution_count": 4,
   "metadata": {},
   "outputs": [
    {
     "name": "stdout",
     "output_type": "stream",
     "text": [
      "RT= 181.8157308639081 Ohms\n",
      "VT= 2.5 V\n",
      "IT= 0.013750185355915594 A\n",
      " \n",
      "I1= 0.000533502678795928 A\n",
      "I2= 0.013216682677119666 A\n",
      "I3= 0.013750185355915594 A\n",
      "V1= 0.43747219661266096 V\n",
      "V2= 0.43747219661266096 V\n",
      "V3= 2.062527803387339 V\n"
     ]
    }
   ],
   "source": [
    "\n",
    "RT1 = a*(R1 + R2 + R3)\n",
    "RT2 = b*(1/(1/R1 + 1/R2 + 1/R3))\n",
    "RT3 = c*((1/(1/R1 +1/R2)) + R3)\n",
    "RT4 = d*(1/ ((1/(R1+R2)) + 1/R3))\n",
    "\n",
    "#defining conditions for total resistance depending on type of circuit\n",
    "if a==1:\n",
    "    RT = RT1\n",
    "if b==1:\n",
    "    RT = RT2\n",
    "if c==1:\n",
    "    RT = RT3\n",
    "if d==1:\n",
    "    RT = RT4\n",
    "\n",
    "#calculating total current flowing in the circuit \n",
    "IT=VT/RT\n",
    "\n",
    "#CALCULATING I1,V1\n",
    "if a==1:\n",
    "    I1 = IT\n",
    "    V1=I1*R1\n",
    "        \n",
    "if b==1:\n",
    "    V1=VT\n",
    "    I1 = V1/R1\n",
    "        \n",
    "if c==1:\n",
    "    R12 = 1/(1/R1 + 1/R2)\n",
    "    V12 = IT*R12\n",
    "    V1=V12\n",
    "    I1=V1/R1\n",
    "    \n",
    "\n",
    "if d==1:\n",
    "    R12 = R1 + R2\n",
    "    I1 = VT/R12\n",
    "    V1 = I1*R1\n",
    "\n",
    "#CALCULATING I2,V2\n",
    "if a==1:\n",
    "    I2 = IT\n",
    "    V2=I2*R2\n",
    "        \n",
    "if b==1:\n",
    "    V2=VT\n",
    "    I2 = V2/R2\n",
    "        \n",
    "if c==1:\n",
    "    R12 = 1/(1/R1 + 1/R2)\n",
    "    V12 = IT*R12\n",
    "    V2=V12\n",
    "    I2=V2/R2\n",
    "\n",
    "if d==1:\n",
    "    R12 = R1 + R2\n",
    "    I2 = VT/R12\n",
    "    V2 = I2*R2\n",
    "\n",
    "#CALCULATING I3,V3\n",
    "if a==1:\n",
    "    I3 = IT\n",
    "    V3=I3*R3\n",
    "        \n",
    "if b==1:\n",
    "    V3=VT\n",
    "    I3 = V3/R3\n",
    "        \n",
    "if c==1:\n",
    "    R12 = 1/(1/R1 + 1/R2)\n",
    "    V12 = IT*R12\n",
    "    V3=VT-V12\n",
    "    I3=V3/R3\n",
    "\n",
    "if d==1:\n",
    "    R12 = R1 + R2\n",
    "    V3 = VT\n",
    "    I3 = V3/R3\n",
    "    \n",
    "\n",
    "print(\"RT=\",RT,\"Ohms\")\n",
    "print(\"VT=\",VT,\"V\")\n",
    "print(\"IT=\",IT,\"A\")\n",
    "print(\" \")\n",
    "print(\"I1=\",I1,\"A\")\n",
    "print(\"I2=\",I2,\"A\")\n",
    "print(\"I3=\",I3,\"A\")\n",
    "print(\"V1=\",V1,\"V\")\n",
    "print(\"V2=\",V2,\"V\")\n",
    "print(\"V3=\",V3,\"V\")\n"
   ]
  },
  {
   "cell_type": "markdown",
   "metadata": {},
   "source": [
    "## Plotting\n"
   ]
  },
  {
   "cell_type": "code",
   "execution_count": 6,
   "metadata": {},
   "outputs": [
    {
     "data": {
      "text/plain": [
       "Text(0, 0.5, 'Voltage (V)')"
      ]
     },
     "execution_count": 6,
     "metadata": {},
     "output_type": "execute_result"
    },
    {
     "data": {
      "image/png": "[encoded data removed]",
      "text/plain": [
       "<Figure size 432x288 with 1 Axes>"
      ]
     },
     "metadata": {
      "needs_background": "light"
     },
     "output_type": "display_data"
    }
   ],
   "source": [
    "I=np.linspace(0,5,10)\n",
    "\n",
    "if a==1:\n",
    "    RT = RT1\n",
    "if b==1:\n",
    "    RT = RT2\n",
    "if c==1:\n",
    "    RT = RT3\n",
    "if d==1:\n",
    "    RT = RT4\n",
    "    \n",
    "V=I*RT\n",
    "\n",
    "fig1 = plt.figure()\n",
    "plt.title('Voltage VS Current')\n",
    "plt.plot(I,V,\".\")\n",
    "plt.xlabel('Current (A)')\n",
    "plt.ylabel('Voltage (V)')"
   ]
  },
  {
   "cell_type": "markdown",
   "metadata": {},
   "source": [
    "_Download this page [as a Jupyter notebook](https://github.com/vuw-scps/python-physics/raw/master/notebooks/phys115/Resistors.ipynb) or as a [standalone Python script](https://github.com/vuw-scps/python-physics/raw/master/scripts/phys115/Resistors.py)._"
   ]
  }
 ],
 "metadata": {
  "kernelspec": {
   "display_name": "Python 3",
   "language": "python",
   "name": "python3"
  },
  "language_info": {
   "codemirror_mode": {
    "name": "ipython",
    "version": 3
   },
   "file_extension": ".py",
   "mimetype": "text/x-python",
   "name": "python",
   "nbconvert_exporter": "python",
   "pygments_lexer": "ipython3",
   "version": "3.7.6"
  }
 },
 "nbformat": 4,
 "nbformat_minor": 4
}
