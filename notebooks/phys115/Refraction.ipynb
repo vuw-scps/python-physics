{
 "cells": [
  {
   "cell_type": "markdown",
   "metadata": {},
   "source": [
    "## Refraction\n",
    "\n"
   ]
  },
  {
   "cell_type": "code",
   "execution_count": 1,
   "metadata": {},
   "outputs": [],
   "source": [
    "import numpy as np\n",
    "from matplotlib import pyplot as plt\n",
    "from scipy.stats import linregress\n"
   ]
  },
  {
   "cell_type": "markdown",
   "metadata": {},
   "source": [
    "## Calculation\n",
    "\n",
    "Code to calculate trajectory of an object undergoing constant acceleration"
   ]
  },
  {
   "cell_type": "code",
   "execution_count": 2,
   "metadata": {},
   "outputs": [
    {
     "name": "stdout",
     "output_type": "stream",
     "text": [
      " \n"
     ]
    }
   ],
   "source": [
    "\n",
    "ni=1.00                 #input index of refraction of air\n",
    "angle_in = 60           #input angle of incidence\n",
    "angle_re = 40           #input angle of refraction\n",
    "\n",
    "##### EXPERIMENTAL DATA PLUG-IN\n",
    "\n",
    "angle_in1 = 10\n",
    "angle_re1 = 7           # input refraction angle 1\n",
    "\n",
    "angle_in2 = 20\n",
    "angle_re2 = 15          # input refraction angle 2\n",
    "\n",
    "angle_in3 = 25\n",
    "angle_re3 = 18          # input refraction angle 3\n",
    "\n",
    "angle_in4 = 30\n",
    "angle_re4 = 22          # input refraction angle 4\n",
    "\n",
    "angle_in5 = 40\n",
    "angle_re5 = 28          # input refraction angle 5\n",
    "\n",
    "angle_in6 = 45\n",
    "angle_re6 = 33          # input refraction angle 6\n",
    "\n",
    "angle_in7 = 50        \n",
    "angle_re7 = 0           # input refraction angle 7\n",
    "\n",
    "################### CODE FOR CALCULATION OF VALUES AND GRAPHS  ###########\n",
    "print(\" \")\n",
    "\n",
    "y1=round(np.sin(angle_in1*np.pi/180),2)\n",
    "y2=round(np.sin(angle_in2*np.pi/180),2)\n",
    "y3=round(np.sin(angle_in3*np.pi/180),2)\n",
    "y4=round(np.sin(angle_in4*np.pi/180),2)\n",
    "y5=round(np.sin(angle_in5*np.pi/180),2)\n",
    "y6=round(np.sin(angle_in6*np.pi/180),2)\n",
    "y7=round(np.sin(angle_in7*np.pi/180),2)\n",
    "\n",
    "x1=round(np.sin(angle_re1*np.pi/180),2)\n",
    "x2=round(np.sin(angle_re2*np.pi/180),2)\n",
    "x3=round(np.sin(angle_re3*np.pi/180),2)\n",
    "x4=round(np.sin(angle_re4*np.pi/180),2)\n",
    "x5=round(np.sin(angle_re5*np.pi/180),2)\n",
    "x6=round(np.sin(angle_re6*np.pi/180),2)\n",
    "x7=round(np.sin(angle_re7*np.pi/180),2)\n",
    "\n",
    "x=[x1,x2,x3,x4,x5,x6,x7]\n",
    "y=[y1,y2,y3,y4,y5,y6,y7]\n"
   ]
  },
  {
   "cell_type": "markdown",
   "metadata": {},
   "source": [
    "## Plot the results\n"
   ]
  },
  {
   "cell_type": "code",
   "execution_count": 3,
   "metadata": {},
   "outputs": [
    {
     "data": {
      "text/plain": [
       "Text(0, 0.5, 'sin(angle_in)')"
      ]
     },
     "execution_count": 3,
     "metadata": {},
     "output_type": "execute_result"
    },
    {
     "data": {
      "image/png": "[encoded data removed]",
      "text/plain": [
       "<Figure size 432x288 with 1 Axes>"
      ]
     },
     "metadata": {
      "needs_background": "light"
     },
     "output_type": "display_data"
    }
   ],
   "source": [
    "\n",
    "fig1 = plt.figure()\n",
    "plt.title ('Linear Relationship of the Sine Values of the Angles')\n",
    "plt.plot(x,y,\"*\")\n",
    "plt.xlabel('sin(angle_re)')\n",
    "plt.ylabel('sin(angle_in)')\n",
    "#fig1.savefig('graph.jpg')\n",
    "\n",
    "\n"
   ]
  },
  {
   "cell_type": "code",
   "execution_count": 5,
   "metadata": {},
   "outputs": [
    {
     "name": "stdout",
     "output_type": "stream",
     "text": [
      " \n",
      "Index of refraction   :   1.32\n",
      " \n",
      "critical angle        :   49.0 degrees\n"
     ]
    }
   ],
   "source": [
    "\n",
    "#calculate index of refraction\n",
    "slope, intercept, r_value, p_value, stderr = linregress([x1,x2,x3,x4],[y1,y2,y3,y4])\n",
    "#calculate critical angle angle_cr\n",
    "angle_cr=round((180/np.pi)*(np.arcsin(1/slope)),0)\n",
    "\n",
    "print(\" \")\n",
    "print (\"Index of refraction   :\",\" \",round(slope,2))\n",
    "print(\" \")\n",
    "print(\"critical angle        :\",\" \",angle_cr,\"degrees\")\n",
    "\n"
   ]
  },
  {
   "cell_type": "markdown",
   "metadata": {},
   "source": [
    "_Download this page [as a Jupyter notebook](https://github.com/vuw-scps/python-physics/raw/master/notebooks/phys115/Refraction.ipynb) or as a [standalone Python script](https://github.com/vuw-scps/python-physics/raw/master/scripts/phys115/Refraction.py)._"
   ]
  }
 ],
 "metadata": {
  "kernelspec": {
   "display_name": "Python 3",
   "language": "python",
   "name": "python3"
  },
  "language_info": {
   "codemirror_mode": {
    "name": "ipython",
    "version": 3
   },
   "file_extension": ".py",
   "mimetype": "text/x-python",
   "name": "python",
   "nbconvert_exporter": "python",
   "pygments_lexer": "ipython3",
   "version": "3.7.6"
  }
 },
 "nbformat": 4,
 "nbformat_minor": 4
}
