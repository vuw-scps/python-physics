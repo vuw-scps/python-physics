{
 "cells": [
  {
   "cell_type": "markdown",
   "metadata": {},
   "source": [
    "## RLC circuit\n",
    "\n"
   ]
  },
  {
   "cell_type": "code",
   "execution_count": 5,
   "metadata": {},
   "outputs": [],
   "source": [
    "from matplotlib import pyplot as plt\n",
    "import numpy as np"
   ]
  },
  {
   "cell_type": "markdown",
   "metadata": {},
   "source": [
    "## Constants\n",
    "\n"
   ]
  },
  {
   "cell_type": "code",
   "execution_count": 6,
   "metadata": {},
   "outputs": [],
   "source": [
    "I=1\n",
    "R=2\n",
    "L=3\n",
    "C=4\n",
    "f=5\n",
    "\n",
    "w=2*np.pi*f"
   ]
  },
  {
   "cell_type": "markdown",
   "metadata": {},
   "source": [
    "### IMPEDANCE"
   ]
  },
  {
   "cell_type": "code",
   "execution_count": 7,
   "metadata": {},
   "outputs": [],
   "source": [
    "XL=w*L\n",
    "XC=1/(w*C)\n",
    "X=XL-XC\n",
    "\n",
    "# Magnitude and angle of impedance\n",
    "Z=np.sqrt((R**2+X**2))\n",
    "Angle=np.arctan(X/R)"
   ]
  },
  {
   "cell_type": "markdown",
   "metadata": {},
   "source": [
    "### VOLTAGE"
   ]
  },
  {
   "cell_type": "code",
   "execution_count": 8,
   "metadata": {},
   "outputs": [
    {
     "name": "stdout",
     "output_type": "stream",
     "text": [
      "\n",
      "voltage, current, and impedance in the circuit\n",
      "Current (I)   =   1 Amperes\n",
      "Impedance (Z) in 'i,j' notation   =   2 + 94.2398218605392 j   Ohms\n",
      "Voltage (V) in 'i,j' notation   =   94.26104192245151 + 94.2398218605392 j   Volts\n",
      "\n",
      "voltage, current, and resistance in the resistor\n",
      "Current (I)   =   1 Amperes\n",
      "Resistance (R)   =   2 Ohms\n",
      "Voltage (VR) =   2 Volts\n"
     ]
    }
   ],
   "source": [
    "VR=I*R\n",
    "VL=I*XL\n",
    "VC=I*XC\n",
    "\n",
    "# Magnitude and angle of total voltage\n",
    "V=np.sqrt((VR**2+(VL-VC)**2))\n",
    "Angle=np.arctan((VL-VC)/VR)\n",
    "\n",
    "print(\"\")\n",
    "print(\"voltage, current, and impedance in the circuit\")\n",
    "print(\"Current (I)\",\" \",\"=\",\" \",I,\"Amperes\")\n",
    "print(\"Impedance (Z) in 'i,j' notation\",\" \",\"=\",\" \",R,\"+\",X,\"j\",\" \",\"Ohms\")\n",
    "print(\"Voltage (V) in 'i,j' notation\",\" \",\"=\",\" \",V,\"+\",VL-VC,\"j\",\" \",\"Volts\")\n",
    "\n",
    "print(\"\")\n",
    "print(\"voltage, current, and resistance in the resistor\")\n",
    "print(\"Current (I)\",\" \",\"=\",\" \",I,\"Amperes\")\n",
    "print(\"Resistance (R)\",\" \",\"=\",\" \",R,\"Ohms\")\n",
    "print(\"Voltage (VR)\",\"=\",\" \",VR,\"Volts\")"
   ]
  },
  {
   "cell_type": "markdown",
   "metadata": {},
   "source": [
    "_Download this page [as a Jupyter notebook](https://github.com/vuw-scps/python-physics/raw/master/notebooks/phys115/RLC.ipynb) or as a [standalone Python script](https://github.com/vuw-scps/python-physics/raw/master/scripts/phys115/RLC.py)._"
   ]
  }
 ],
 "metadata": {
  "kernelspec": {
   "display_name": "Python 3",
   "language": "python",
   "name": "python3"
  },
  "language_info": {
   "codemirror_mode": {
    "name": "ipython",
    "version": 3
   },
   "file_extension": ".py",
   "mimetype": "text/x-python",
   "name": "python",
   "nbconvert_exporter": "python",
   "pygments_lexer": "ipython3",
   "version": "3.7.6"
  }
 },
 "nbformat": 4,
 "nbformat_minor": 4
}
