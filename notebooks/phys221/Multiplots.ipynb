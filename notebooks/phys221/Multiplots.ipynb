{
 "cells": [
  {
   "cell_type": "markdown",
   "metadata": {},
   "source": [
    "# Molecular Speeds lab Python data analysis - multiple gas dataset processing"
   ]
  },
  {
   "cell_type": "markdown",
   "metadata": {},
   "source": [
    "This Python workshop was originally developed by VUW Physics students William Holmes-Hewett and Campbell Matthews.  Thanks to both of them for their energy and enthusiam in making this resource."
   ]
  },
  {
   "cell_type": "markdown",
   "metadata": {},
   "source": [
    "Start a new code file in the folder that you have saved all of the .csv files.  You can take a look at the example code you have been given or just start from scratch and workthrough from here.  "
   ]
  },
  {
   "cell_type": "markdown",
   "metadata": {},
   "source": [
    "## Importing modules"
   ]
  },
  {
   "cell_type": "markdown",
   "metadata": {},
   "source": [
    "Let's begin by importing all the modules we will need at the top of the code and adding in the variables that we know we will need for the analysis.  "
   ]
  },
  {
   "cell_type": "code",
   "execution_count": 22,
   "metadata": {},
   "outputs": [],
   "source": [
    "import numpy as np\n",
    "from matplotlib import pyplot as plt\n",
    "from math import log\n",
    "import math"
   ]
  },
  {
   "cell_type": "markdown",
   "metadata": {},
   "source": [
    "## Setting up variables and constants required later"
   ]
  },
  {
   "cell_type": "code",
   "execution_count": 23,
   "metadata": {},
   "outputs": [],
   "source": [
    "V=2.03*10**-3\n",
    "A=5.55113*10**-8\n",
    "ef_begin=0.26"
   ]
  },
  {
   "cell_type": "markdown",
   "metadata": {},
   "source": [
    "What we are going to do here is run a for loop over all the code we wrote for all files in a specific folder. This will be the folder we are in, so make sure that's where you are and you have all the data from the workshop folder.   "
   ]
  },
  {
   "cell_type": "markdown",
   "metadata": {},
   "source": [
    "## New moldues for file organisation"
   ]
  },
  {
   "cell_type": "markdown",
   "metadata": {},
   "source": [
    "To start with we need to import the other modules we are going to use.\n",
    "\n",
    "os (or Miscellaneous Operating system interfaces) let's us look up file paths and folder locations.\n",
    "\n",
    "Glob lets us find all files matching a pattern.\n",
    "\n",
    "These are file organisation tools.  You can look up more about them if you like."
   ]
  },
  {
   "cell_type": "code",
   "execution_count": 24,
   "metadata": {},
   "outputs": [],
   "source": [
    "import os\n",
    "import glob"
   ]
  },
  {
   "cell_type": "markdown",
   "metadata": {},
   "source": [
    "The first thing we want to do is set the location of our folder which is where the script is stored i.e. CWD or current working directory.\n",
    "\n",
    "This is one of the reasons why we made our .py code in the same folder as the data.  You could use a different folder but that would be trickier.  Although certinaly doable."
   ]
  },
  {
   "cell_type": "code",
   "execution_count": 30,
   "metadata": {},
   "outputs": [],
   "source": [
    "folder=os.getcwd()"
   ]
  },
  {
   "cell_type": "markdown",
   "metadata": {},
   "source": [
    "## File formats"
   ]
  },
  {
   "cell_type": "markdown",
   "metadata": {},
   "source": [
    "Now we know where the files are stored we need to set the pattern (or type of files) for Glob to look for."
   ]
  },
  {
   "cell_type": "code",
   "execution_count": 26,
   "metadata": {},
   "outputs": [],
   "source": [
    "fileformat=folder+str('/*.csv')"
   ]
  },
  {
   "cell_type": "markdown",
   "metadata": {},
   "source": [
    "This will make the script only look for csv files in the correct folder."
   ]
  },
  {
   "cell_type": "markdown",
   "metadata": {},
   "source": [
    "We now want to create an array of the filenames, these are named after the gases and mass numbers."
   ]
  },
  {
   "cell_type": "code",
   "execution_count": 31,
   "metadata": {},
   "outputs": [],
   "source": [
    "files=glob.glob(fileformat)"
   ]
  },
  {
   "cell_type": "markdown",
   "metadata": {},
   "source": [
    "## Building the arrays"
   ]
  },
  {
   "cell_type": "markdown",
   "metadata": {},
   "source": [
    "Create an array of masses from filenames to use later, as filenames are  strings we need to set them as intergers.  Note that -ve indicies run from the end."
   ]
  },
  {
   "cell_type": "code",
   "execution_count": 32,
   "metadata": {},
   "outputs": [
    {
     "ename": "ValueError",
     "evalue": "invalid literal for int() with base 10: '_2'",
     "output_type": "error",
     "traceback": [
      "\u001b[1;31m---------------------------------------------------------------------------\u001b[0m",
      "\u001b[1;31mValueError\u001b[0m                                Traceback (most recent call last)",
      "\u001b[1;32m<ipython-input-32-80f6f43a0414>\u001b[0m in \u001b[0;36m<module>\u001b[1;34m\u001b[0m\n\u001b[1;32m----> 1\u001b[1;33m \u001b[0mmasses\u001b[0m\u001b[1;33m=\u001b[0m\u001b[1;33m[\u001b[0m\u001b[0mint\u001b[0m\u001b[1;33m(\u001b[0m\u001b[0mf\u001b[0m\u001b[1;33m[\u001b[0m\u001b[1;33m-\u001b[0m\u001b[1;36m6\u001b[0m\u001b[1;33m:\u001b[0m\u001b[1;33m-\u001b[0m\u001b[1;36m4\u001b[0m\u001b[1;33m]\u001b[0m\u001b[1;33m)\u001b[0m \u001b[1;32mfor\u001b[0m \u001b[0mf\u001b[0m \u001b[1;32min\u001b[0m \u001b[0mfiles\u001b[0m\u001b[1;33m]\u001b[0m\u001b[1;33m\u001b[0m\u001b[1;33m\u001b[0m\u001b[0m\n\u001b[0m",
      "\u001b[1;32m<ipython-input-32-80f6f43a0414>\u001b[0m in \u001b[0;36m<listcomp>\u001b[1;34m(.0)\u001b[0m\n\u001b[1;32m----> 1\u001b[1;33m \u001b[0mmasses\u001b[0m\u001b[1;33m=\u001b[0m\u001b[1;33m[\u001b[0m\u001b[0mint\u001b[0m\u001b[1;33m(\u001b[0m\u001b[0mf\u001b[0m\u001b[1;33m[\u001b[0m\u001b[1;33m-\u001b[0m\u001b[1;36m6\u001b[0m\u001b[1;33m:\u001b[0m\u001b[1;33m-\u001b[0m\u001b[1;36m4\u001b[0m\u001b[1;33m]\u001b[0m\u001b[1;33m)\u001b[0m \u001b[1;32mfor\u001b[0m \u001b[0mf\u001b[0m \u001b[1;32min\u001b[0m \u001b[0mfiles\u001b[0m\u001b[1;33m]\u001b[0m\u001b[1;33m\u001b[0m\u001b[1;33m\u001b[0m\u001b[0m\n\u001b[0m",
      "\u001b[1;31mValueError\u001b[0m: invalid literal for int() with base 10: '_2'"
     ]
    }
   ],
   "source": [
    "masses=[int(f[-6:-4]) for f in files]"
   ]
  },
  {
   "cell_type": "markdown",
   "metadata": {},
   "source": [
    "It might not be totally clear what this is doing unless we print the output. "
   ]
  },
  {
   "cell_type": "code",
   "execution_count": 29,
   "metadata": {},
   "outputs": [
    {
     "name": "stdout",
     "output_type": "stream",
     "text": [
      "['C:\\\\Users\\\\plankna\\\\Dropbox\\\\GithubStuff_tosave\\\\python-physics\\\\notebooks\\\\phys221\\\\Argon 38.csv', 'C:\\\\Users\\\\plankna\\\\Dropbox\\\\GithubStuff_tosave\\\\python-physics\\\\notebooks\\\\phys221\\\\Carbon Dioxide 40.csv', 'C:\\\\Users\\\\plankna\\\\Dropbox\\\\GithubStuff_tosave\\\\python-physics\\\\notebooks\\\\phys221\\\\Chlorine 71.csv', 'C:\\\\Users\\\\plankna\\\\Dropbox\\\\GithubStuff_tosave\\\\python-physics\\\\notebooks\\\\phys221\\\\Fluorine 38.csv', 'C:\\\\Users\\\\plankna\\\\Dropbox\\\\GithubStuff_tosave\\\\python-physics\\\\notebooks\\\\phys221\\\\Krypton 84.csv', 'C:\\\\Users\\\\plankna\\\\Dropbox\\\\GithubStuff_tosave\\\\python-physics\\\\notebooks\\\\phys221\\\\Methane 16.csv', 'C:\\\\Users\\\\plankna\\\\Dropbox\\\\GithubStuff_tosave\\\\python-physics\\\\notebooks\\\\phys221\\\\Neon 17.csv', 'C:\\\\Users\\\\plankna\\\\Dropbox\\\\GithubStuff_tosave\\\\python-physics\\\\notebooks\\\\phys221\\\\Nitrogen 28.csv', 'C:\\\\Users\\\\plankna\\\\Dropbox\\\\GithubStuff_tosave\\\\python-physics\\\\notebooks\\\\phys221\\\\Nitrogen 28_2.csv', 'C:\\\\Users\\\\plankna\\\\Dropbox\\\\GithubStuff_tosave\\\\python-physics\\\\notebooks\\\\phys221\\\\Oxygen 32.csv', 'C:\\\\Users\\\\plankna\\\\Dropbox\\\\GithubStuff_tosave\\\\python-physics\\\\notebooks\\\\phys221\\\\Sulphur Dioxide 64.csv']\n"
     ]
    }
   ],
   "source": [
    "print(files)"
   ]
  },
  {
   "cell_type": "markdown",
   "metadata": {},
   "source": [
    "argh!!!  depending on your filing system this might look horrible..."
   ]
  },
  {
   "cell_type": "markdown",
   "metadata": {},
   "source": [
    "I think it becomes clearer if we print the output of the array."
   ]
  },
  {
   "cell_type": "code",
   "execution_count": 17,
   "metadata": {},
   "outputs": [
    {
     "ename": "NameError",
     "evalue": "name 'masses' is not defined",
     "output_type": "error",
     "traceback": [
      "\u001b[1;31m---------------------------------------------------------------------------\u001b[0m",
      "\u001b[1;31mNameError\u001b[0m                                 Traceback (most recent call last)",
      "\u001b[1;32m<ipython-input-17-b7e9c1c16a60>\u001b[0m in \u001b[0;36m<module>\u001b[1;34m\u001b[0m\n\u001b[1;32m----> 1\u001b[1;33m \u001b[0mprint\u001b[0m\u001b[1;33m(\u001b[0m\u001b[0mmasses\u001b[0m\u001b[1;33m)\u001b[0m\u001b[1;33m\u001b[0m\u001b[1;33m\u001b[0m\u001b[0m\n\u001b[0m",
      "\u001b[1;31mNameError\u001b[0m: name 'masses' is not defined"
     ]
    }
   ],
   "source": [
    "print(masses)"
   ]
  },
  {
   "cell_type": "markdown",
   "metadata": {},
   "source": [
    "Hopefully this helps to see what has gone on.  We have taken the string from the file name and turned them into an integer.  To do this we counted back from the end of the file name."
   ]
  },
  {
   "cell_type": "markdown",
   "metadata": {},
   "source": [
    "We now need to find out how many files we have in the folder.  We know how to do that already."
   ]
  },
  {
   "cell_type": "code",
   "execution_count": 18,
   "metadata": {},
   "outputs": [],
   "source": [
    "n=len(files)"
   ]
  },
  {
   "cell_type": "markdown",
   "metadata": {},
   "source": [
    "We also need to create an empty array to populate later."
   ]
  },
  {
   "cell_type": "code",
   "execution_count": 19,
   "metadata": {},
   "outputs": [],
   "source": [
    "v=np.zeros(n)"
   ]
  },
  {
   "cell_type": "markdown",
   "metadata": {},
   "source": [
    "## Applying the previous code to multiple files"
   ]
  },
  {
   "cell_type": "markdown",
   "metadata": {},
   "source": [
    "We now want to simply run though the previous code (in the single gas experiment) for all of the files in the folder."
   ]
  },
  {
   "cell_type": "code",
   "execution_count": 20,
   "metadata": {},
   "outputs": [
    {
     "ename": "IndexError",
     "evalue": "too many indices for array",
     "output_type": "error",
     "traceback": [
      "\u001b[1;31m---------------------------------------------------------------------------\u001b[0m",
      "\u001b[1;31mIndexError\u001b[0m                                Traceback (most recent call last)",
      "\u001b[1;32m<ipython-input-20-c05382a0ce81>\u001b[0m in \u001b[0;36m<module>\u001b[1;34m\u001b[0m\n\u001b[0;32m      5\u001b[0m \u001b[1;33m\u001b[0m\u001b[0m\n\u001b[0;32m      6\u001b[0m     \u001b[0mrawdata\u001b[0m\u001b[1;33m=\u001b[0m\u001b[0mnp\u001b[0m\u001b[1;33m.\u001b[0m\u001b[0mgenfromtxt\u001b[0m\u001b[1;33m(\u001b[0m\u001b[0mfiles\u001b[0m\u001b[1;33m[\u001b[0m\u001b[0mj\u001b[0m\u001b[1;33m]\u001b[0m\u001b[1;33m,\u001b[0m \u001b[0mdelimiter\u001b[0m\u001b[1;33m=\u001b[0m\u001b[1;34m','\u001b[0m\u001b[1;33m)\u001b[0m\u001b[1;33m\u001b[0m\u001b[1;33m\u001b[0m\u001b[0m\n\u001b[1;32m----> 7\u001b[1;33m     \u001b[0mtime\u001b[0m\u001b[1;33m=\u001b[0m\u001b[0mrawdata\u001b[0m\u001b[1;33m[\u001b[0m\u001b[1;33m:\u001b[0m\u001b[1;33m,\u001b[0m\u001b[1;36m0\u001b[0m\u001b[1;33m]\u001b[0m\u001b[1;33m\u001b[0m\u001b[1;33m\u001b[0m\u001b[0m\n\u001b[0m\u001b[0;32m      8\u001b[0m     \u001b[0mpressure\u001b[0m\u001b[1;33m=\u001b[0m\u001b[0mrawdata\u001b[0m\u001b[1;33m[\u001b[0m\u001b[1;33m:\u001b[0m\u001b[1;33m,\u001b[0m\u001b[1;36m1\u001b[0m\u001b[1;33m]\u001b[0m\u001b[1;33m\u001b[0m\u001b[1;33m\u001b[0m\u001b[0m\n\u001b[0;32m      9\u001b[0m     \u001b[0mbaseP\u001b[0m\u001b[1;33m=\u001b[0m\u001b[0mmin\u001b[0m\u001b[1;33m(\u001b[0m\u001b[0mrawdata\u001b[0m\u001b[1;33m[\u001b[0m\u001b[1;33m:\u001b[0m\u001b[1;33m,\u001b[0m\u001b[1;36m1\u001b[0m\u001b[1;33m]\u001b[0m\u001b[1;33m)\u001b[0m\u001b[1;33m\u001b[0m\u001b[1;33m\u001b[0m\u001b[0m\n",
      "\u001b[1;31mIndexError\u001b[0m: too many indices for array"
     ]
    }
   ],
   "source": [
    "for j in range(n):\n",
    "\n",
    "    #we need to indent all this code and change the argument in genfromtext \n",
    "    #to files[j] \n",
    "    \n",
    "    rawdata=np.genfromtxt(files[j], delimiter=',')\n",
    "    time=rawdata[:,0]\n",
    "    pressure=rawdata[:,1]\n",
    "    baseP=min(rawdata[:,1])\n",
    "    P_minus_baseP=[i-0.99*baseP for i in pressure]\n",
    "    res=[abs(i-ef_begin) for i in P_minus_baseP]\n",
    "    minres=min(res)\n",
    "    for i in range (len(res)):\n",
    "        if res[i]==minres:\n",
    "            Peff_index=i\n",
    "            break\n",
    "    LogP=[log(i) for i in P_minus_baseP]\n",
    "    fit=np.polyfit(time[Peff_index:1400],LogP[Peff_index:1400],1)\n",
    "    m=fit[0]\n",
    "    c=fit[1]\n",
    "    "
   ]
  },
  {
   "cell_type": "markdown",
   "metadata": {},
   "source": [
    "note, we no longer have cats... ;-)"
   ]
  },
  {
   "cell_type": "markdown",
   "metadata": {},
   "source": [
    "compare this to your previous code.  It is the same, just compressed.\n",
    "\n",
    "Now I am adding on to this and plotting the data."
   ]
  },
  {
   "cell_type": "code",
   "execution_count": 21,
   "metadata": {},
   "outputs": [
    {
     "ename": "IndexError",
     "evalue": "too many indices for array",
     "output_type": "error",
     "traceback": [
      "\u001b[1;31m---------------------------------------------------------------------------\u001b[0m",
      "\u001b[1;31mIndexError\u001b[0m                                Traceback (most recent call last)",
      "\u001b[1;32m<ipython-input-21-e3bdfcc6e811>\u001b[0m in \u001b[0;36m<module>\u001b[1;34m\u001b[0m\n\u001b[0;32m      5\u001b[0m \u001b[1;33m\u001b[0m\u001b[0m\n\u001b[0;32m      6\u001b[0m     \u001b[0mrawdata\u001b[0m\u001b[1;33m=\u001b[0m\u001b[0mnp\u001b[0m\u001b[1;33m.\u001b[0m\u001b[0mgenfromtxt\u001b[0m\u001b[1;33m(\u001b[0m\u001b[0mfiles\u001b[0m\u001b[1;33m[\u001b[0m\u001b[0mj\u001b[0m\u001b[1;33m]\u001b[0m\u001b[1;33m,\u001b[0m \u001b[0mdelimiter\u001b[0m\u001b[1;33m=\u001b[0m\u001b[1;34m','\u001b[0m\u001b[1;33m)\u001b[0m\u001b[1;33m\u001b[0m\u001b[1;33m\u001b[0m\u001b[0m\n\u001b[1;32m----> 7\u001b[1;33m     \u001b[0mtime\u001b[0m\u001b[1;33m=\u001b[0m\u001b[0mrawdata\u001b[0m\u001b[1;33m[\u001b[0m\u001b[1;33m:\u001b[0m\u001b[1;33m,\u001b[0m\u001b[1;36m0\u001b[0m\u001b[1;33m]\u001b[0m\u001b[1;33m\u001b[0m\u001b[1;33m\u001b[0m\u001b[0m\n\u001b[0m\u001b[0;32m      8\u001b[0m     \u001b[0mpressure\u001b[0m\u001b[1;33m=\u001b[0m\u001b[0mrawdata\u001b[0m\u001b[1;33m[\u001b[0m\u001b[1;33m:\u001b[0m\u001b[1;33m,\u001b[0m\u001b[1;36m1\u001b[0m\u001b[1;33m]\u001b[0m\u001b[1;33m\u001b[0m\u001b[1;33m\u001b[0m\u001b[0m\n\u001b[0;32m      9\u001b[0m     \u001b[0mbaseP\u001b[0m\u001b[1;33m=\u001b[0m\u001b[0mmin\u001b[0m\u001b[1;33m(\u001b[0m\u001b[0mrawdata\u001b[0m\u001b[1;33m[\u001b[0m\u001b[1;33m:\u001b[0m\u001b[1;33m,\u001b[0m\u001b[1;36m1\u001b[0m\u001b[1;33m]\u001b[0m\u001b[1;33m)\u001b[0m\u001b[1;33m\u001b[0m\u001b[1;33m\u001b[0m\u001b[0m\n",
      "\u001b[1;31mIndexError\u001b[0m: too many indices for array"
     ]
    }
   ],
   "source": [
    "for j in range(n):\n",
    "\n",
    "    #we need to indent all this code and change the argument in genfromtext \n",
    "    #to files[j] \n",
    "    \n",
    "    rawdata=np.genfromtxt(files[j], delimiter=',')\n",
    "    time=rawdata[:,0]\n",
    "    pressure=rawdata[:,1]\n",
    "    baseP=min(rawdata[:,1])\n",
    "    P_minus_baseP=[i-0.99*baseP for i in pressure]\n",
    "    res=[abs(i-ef_begin) for i in P_minus_baseP]\n",
    "    minres=min(res)\n",
    "    for i in range (len(res)):\n",
    "        if res[i]==minres:\n",
    "            Peff_index=i\n",
    "            break\n",
    "    LogP=[log(i) for i in P_minus_baseP]\n",
    "    fit=np.polyfit(time[Peff_index:1400],LogP[Peff_index:1400],1)\n",
    "    m=fit[0]\n",
    "    c=fit[1]\n",
    "    \n",
    "    \n",
    "    #now we put each of these in one of the spots in the vector v\n",
    "    \n",
    "    v[j]=-4*V*m/A\n",
    "\n",
    "\n",
    "#now lets print v\n",
    "\n",
    "######################print(v)\n",
    "\n",
    "#we can then plot v as a function of mass number\n",
    "\n",
    "plt.scatter(masses,v)   \n",
    "\n",
    "#we can now create a theoritical line to match these to\n",
    "\n",
    "#first we need a range of mass numbers\n",
    "    "
   ]
  },
  {
   "cell_type": "markdown",
   "metadata": {},
   "source": [
    "## Analysis"
   ]
  },
  {
   "cell_type": "code",
   "execution_count": 16,
   "metadata": {},
   "outputs": [
    {
     "data": {
      "text/plain": [
       "Text(0, 0.5, 'Velocity')"
      ]
     },
     "execution_count": 16,
     "metadata": {},
     "output_type": "execute_result"
    },
    {
     "data": {
      "image/png": "[encoded data removed]",
      "text/plain": [
       "<Figure size 432x288 with 1 Axes>"
      ]
     },
     "metadata": {
      "needs_background": "light"
     },
     "output_type": "display_data"
    }
   ],
   "source": [
    "#now we simply complete the theoritical calculation\n",
    "\n",
    "vtheory=[math.sqrt(8/math.pi*1.38*(10**-23)*300/i/(1.67*10**-27)) for i in range(10,90)]\n",
    "\n",
    "#and plot the result on our plot\n",
    "\n",
    "plt.plot(range(10,90),vtheory,'k--')\n",
    "\n",
    "#we can add some labels\n",
    "\n",
    "plt.xlabel('Mass Number')\n",
    "plt.ylabel('Velocity')"
   ]
  },
  {
   "cell_type": "markdown",
   "metadata": {},
   "source": [
    "Putting these last two parts together we find (this will be what comes up in Spyder)."
   ]
  },
  {
   "cell_type": "code",
   "execution_count": 17,
   "metadata": {},
   "outputs": [
    {
     "data": {
      "text/plain": [
       "Text(0, 0.5, 'Velocity')"
      ]
     },
     "execution_count": 17,
     "metadata": {},
     "output_type": "execute_result"
    },
    {
     "data": {
      "image/png": "[encoded data removed]",
      "text/plain": [
       "<Figure size 432x288 with 1 Axes>"
      ]
     },
     "metadata": {
      "needs_background": "light"
     },
     "output_type": "display_data"
    }
   ],
   "source": [
    "for j in range(n):\n",
    "\n",
    "    #we need to indent all this code and change the argument in genfromtext \n",
    "    #to files[j] \n",
    "    \n",
    "    rawdata=np.genfromtxt(files[j], delimiter=',')\n",
    "    time=rawdata[:,0]\n",
    "    pressure=rawdata[:,1]\n",
    "    baseP=min(rawdata[:,1])\n",
    "    P_minus_baseP=[i-0.99*baseP for i in pressure]\n",
    "    res=[abs(i-ef_begin) for i in P_minus_baseP]\n",
    "    minres=min(res)\n",
    "    for i in range (len(res)):\n",
    "        if res[i]==minres:\n",
    "            Peff_index=i\n",
    "            break\n",
    "    LogP=[log(i) for i in P_minus_baseP]\n",
    "    fit=np.polyfit(time[Peff_index:1400],LogP[Peff_index:1400],1)\n",
    "    m=fit[0]\n",
    "    c=fit[1]\n",
    "    \n",
    "    \n",
    "    #now we put each of these in one of the spots in the vector v\n",
    "    \n",
    "    v[j]=-4*V*m/A\n",
    "\n",
    "\n",
    "#now lets print v\n",
    "\n",
    "######################print(v)\n",
    "\n",
    "#we can then plot v as a function of mass number\n",
    "\n",
    "plt.scatter(masses,v)\n",
    "\n",
    "#we can now create a theoritical line to match these to\n",
    "\n",
    "#first we need a range of mass numbers\n",
    "\n",
    "\n",
    "\n",
    "#now we simply complete the theoritical calculation\n",
    "\n",
    "vtheory=[math.sqrt(8/math.pi*1.38*(10**-23)*300/i/(1.67*10**-27)) for i in range(10,90)]\n",
    "\n",
    "#and plot the result on our plot\n",
    "\n",
    "plt.plot(range(10,90),vtheory,'k--')\n",
    "\n",
    "#we can add some labels\n",
    "\n",
    "plt.xlabel('Mass Number')\n",
    "plt.ylabel('Velocity')"
   ]
  },
  {
   "cell_type": "markdown",
   "metadata": {},
   "source": [
    "Compare this to your results from the PHYS223 lab.  \n",
    "\n",
    "What are the advantages of using the Python script?"
   ]
  },
  {
   "cell_type": "markdown",
   "metadata": {},
   "source": [
    "_Download this page [as a Jupyter notebook](https://github.com/vuw-scps/python-physics/raw/master/notebooks/phys221/Multiplots.ipynb) or as a [standalone Python script](https://github.com/vuw-scps/python-physics/raw/master/scripts/phys221/Multiplots.py)._"
   ]
  }
 ],
 "metadata": {
  "kernelspec": {
   "display_name": "Python 3",
   "language": "python",
   "name": "python3"
  },
  "language_info": {
   "codemirror_mode": {
    "name": "ipython",
    "version": 3
   },
   "file_extension": ".py",
   "mimetype": "text/x-python",
   "name": "python",
   "nbconvert_exporter": "python",
   "pygments_lexer": "ipython3",
   "version": "3.7.1"
  }
 },
 "nbformat": 4,
 "nbformat_minor": 4
}
