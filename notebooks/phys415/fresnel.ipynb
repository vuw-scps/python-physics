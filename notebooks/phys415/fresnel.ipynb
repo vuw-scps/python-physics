{
 "cells": [
  {
   "cell_type": "markdown",
   "metadata": {},
   "source": [
    "## Fresnel reflection and transmission at an interface\n"
   ]
  },
  {
   "cell_type": "code",
   "execution_count": 2,
   "metadata": {},
   "outputs": [],
   "source": [
    "import cmath \n",
    "import matplotlib.pyplot as plt\n",
    "import numpy as np\n",
    "import scipy as sp\n",
    "\n",
    "\n",
    "wavelength = 633.0\n",
    "n1 = 1.5\n",
    "n2 = 1.0"
   ]
  },
  {
   "cell_type": "markdown",
   "metadata": {},
   "source": [
    "## Fresnel coefficients\n",
    "\n",
    "For a given incident angle, we compute the wavevectors in both media, the in-plane wavevector, the complex reflection and transmission coefficients for p and s polarisations, and return the intensity coefficients."
   ]
  },
  {
   "cell_type": "code",
   "execution_count": 3,
   "metadata": {},
   "outputs": [],
   "source": [
    "\n",
    "def fresnel(theta):\n",
    "    \n",
    "    k0 = 2*np.pi/wavelength\n",
    "    k1 = n1 * k0\n",
    "    k2 = n2 * k0\n",
    "    \n",
    "    k_x = k1 * cmath.sin(theta)\n",
    "    \n",
    "    k1_z = np.sqrt(k1**2 - k_x**2)\n",
    "    k2_z = np.sqrt(k2**2 - k_x**2)\n",
    "    \n",
    "    eps1 = n1**2\n",
    "    eps2 = n2**2\n",
    "    \n",
    "    ap = k1_z / eps1\n",
    "    bp = k2_z / eps2\n",
    "    rp = (ap - bp) / (ap + bp)\n",
    "    tp = 2 * ap / (ap + bp)\n",
    "    \n",
    "    rs = (k1_z - k2_z) / (k1_z + k2_z)\n",
    "    ts = 2 * k1_z / (k1_z + k2_z)\n",
    "    \n",
    "    Rs = abs(rs)**2\n",
    "    Rp = abs(rp)**2\n",
    "    Ts = abs(ts)**2 * np.real(k2_z/k1_z)\n",
    "    Tp = 1 - Rp\n",
    "    \n",
    "    return(Rp,Rs,Tp,Ts)\n",
    "  "
   ]
  },
  {
   "cell_type": "markdown",
   "metadata": {},
   "source": [
    "## Loop over incident angle\n",
    "\n",
    "We create a vector of incident angles from 0 to pi/2 (excluding exact normal incidence as the denominators blow up), and call the function defined above."
   ]
  },
  {
   "cell_type": "code",
   "execution_count": 4,
   "metadata": {},
   "outputs": [],
   "source": [
    "Ntheta = 180\n",
    "atheta = np.linspace(0.001, np.pi/2-0.001, Ntheta)\n",
    "arp = np.zeros(Ntheta)\n",
    "ars = np.zeros(Ntheta)\n",
    "atp = np.zeros(Ntheta)\n",
    "ats = np.zeros(Ntheta)\n",
    "\n",
    "for it in range(Ntheta):\n",
    "    rp,rs,tp,ts = fresnel(atheta[it])\n",
    "    arp[it] = rp; ars[it] = rs; atp[it] = tp; ats[it] = ts; \n"
   ]
  },
  {
   "cell_type": "markdown",
   "metadata": {},
   "source": [
    "## Plotting\n",
    "\n"
   ]
  },
  {
   "cell_type": "code",
   "execution_count": 5,
   "metadata": {},
   "outputs": [
    {
     "data": {
      "image/png": "[encoded data removed]",
      "text/plain": [
       "<Figure size 432x288 with 1 Axes>"
      ]
     },
     "metadata": {
      "needs_background": "light"
     },
     "output_type": "display_data"
    }
   ],
   "source": [
    "atheta_deg = atheta * 180/np.pi\n",
    "\n",
    "plt.figure()\n",
    "plt.plot(atheta_deg, arp, '-k')\n",
    "plt.plot(atheta_deg, ars,'--k')\n",
    "plt.plot(atheta_deg, atp, '-k')\n",
    "plt.plot(atheta_deg, ats, '--k')\n",
    "plt.show()\n"
   ]
  },
  {
   "cell_type": "markdown",
   "metadata": {},
   "source": [
    "We note the following features:\n",
    " \n",
    "- p-polarisation has a minimum in reflectivity (Brewster angle)\n",
    "- both polarisations yield complete reflection above ~42 degrees (total internal reflection), where the complex amplitude reflection coefficient becomes purely imaginary\n",
    "- reflection at normal incidence is the same for both polarisations (as it must be, since they're both equivalent when the plane of incidence cannot be defined)"
   ]
  },
  {
   "cell_type": "markdown",
   "metadata": {},
   "source": [
    "_Download this page [as a Jupyter notebook](https://github.com/vuw-scps/python-physics/raw/master/notebooks/phys415/fresnel.ipynb) or as a [standalone Python script](https://github.com/vuw-scps/python-physics/raw/master/scripts/phys415/fresnel.py)._"
   ]
  },
  {
   "cell_type": "code",
   "execution_count": null,
   "metadata": {},
   "outputs": [],
   "source": []
  }
 ],
 "metadata": {
  "kernelspec": {
   "display_name": "Python 3",
   "language": "python",
   "name": "python3"
  },
  "language_info": {
   "codemirror_mode": {
    "name": "ipython",
    "version": 3
   },
   "file_extension": ".py",
   "mimetype": "text/x-python",
   "name": "python",
   "nbconvert_exporter": "python",
   "pygments_lexer": "ipython3",
   "version": "3.7.6"
  }
 },
 "nbformat": 4,
 "nbformat_minor": 4
}
