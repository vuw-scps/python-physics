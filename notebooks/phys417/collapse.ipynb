{
  "nbformat": 4,
  "nbformat_minor": 0,
  "metadata": {
    "kernelspec": {
      "display_name": "Python 3",
      "language": "python",
      "name": "python3"
    },
    "language_info": {
      "codemirror_mode": {
        "name": "ipython",
        "version": 3
      },
      "file_extension": ".py",
      "mimetype": "text/x-python",
      "name": "python",
      "nbconvert_exporter": "python",
      "pygments_lexer": "ipython3",
      "version": "3.7.6"
    },
    "colab": {
      "name": "collapse.ipynb",
      "provenance": []
    }
  },
  "cells": [
    {
      "cell_type": "markdown",
      "metadata": {
        "id": "FR-cLb3MnwQm"
      },
      "source": [
        "Numerical integration of the similarity equations for the collapse of an isothermal sphere.\n",
        "\n",
        "## Required dependencies\n",
        "\n",
        "We load `numpy`, `scipy.integrate.solve_ivp` to solve an initial value problem for our system of ODEs, and `matplotlib` for plotting the solutions."
      ]
    },
    {
      "cell_type": "code",
      "metadata": {
        "id": "nSkxMORynwQo"
      },
      "source": [
        "import numpy as np\n",
        "from scipy.integrate import solve_ivp\n",
        "from matplotlib import pyplot"
      ],
      "execution_count": 1,
      "outputs": []
    },
    {
      "cell_type": "markdown",
      "metadata": {
        "id": "S2LjD3Q4nwQz"
      },
      "source": [
        "## System of equations\n",
        "\n",
        "We want to solve for $\\alpha(x)$, $\\beta(x)$ given:\n",
        "\n",
        "$\\left [ (x-\\beta)^2-1 \\right]  \\frac{1}{\\alpha} \\frac{\\partial \\alpha}{\\partial x} = \\left[  \\alpha  -  \\frac{2}{x} (x-\\beta) \\right]  (x-\\beta)$\n",
        "\n",
        "$\\left [ (x-\\beta)^2 -1 \\right] \\frac{\\partial \\beta}{\\partial x} = \\left[  \\alpha  (x-\\beta)  -  \\frac{2}{x} \\right] (x-\\beta)$\n",
        "\n",
        "Let $\\alpha = y_1$, $\\beta = y_2$.  Then we have\n",
        "\n",
        "$y_1'=\\frac{y_1}{[(x-y_2)^2-1]}[y_1-\\frac{2}{x}(x-y_2)](x-y_2)$\n",
        "\n",
        "$y2'=\\frac{1}{[(x-y_2)^2-1]}[y_1(x-y_2)-\\frac{2}{x}](x-y_2)$\n",
        "\n",
        "Now implementing the differential functions.  Here $y$ is an array of the two functions $[y_1, y_2]$ and the function returns the two derivatives, $[y_1',y_2']$."
      ]
    },
    {
      "cell_type": "code",
      "metadata": {
        "id": "7Fn-E5TlnwQ4"
      },
      "source": [
        "def collapse(x, y):\n",
        "  xmb=x-y[1]\n",
        "  y1p=y[0]/(xmb**2-1)*(y[0]-2./x*xmb)*xmb\n",
        "  y2p=1./(xmb**2-1)*(y[0]*xmb-2./x)*xmb\n",
        "  return np.vstack((y1p, y2p))\n"
      ],
      "execution_count": 2,
      "outputs": []
    },
    {
      "cell_type": "markdown",
      "metadata": {
        "id": "02ds93OvnwQ-"
      },
      "source": [
        "## Initial conditions\n",
        "\n",
        "Set up the initial conditions.  From Shu 1977 (SELF-SIMILAR COLLAPSE OF ISOTHERMAL SPHERES AND STAR FORMATION), at large $x$ the solutions should asymptote to $\\alpha=A/x^2$, $\\beta=-(A-2)/x$, $m=Ax$ for $A>2$."
      ]
    },
    {
      "cell_type": "code",
      "metadata": {
        "id": "PCKZ3_CSnwRA"
      },
      "source": [
        "A=2.2\n",
        "x0=10.\n",
        "a0=A/x0**2\n",
        "b0=-(A-2)/x0\n"
      ],
      "execution_count": 3,
      "outputs": []
    },
    {
      "cell_type": "markdown",
      "metadata": {
        "id": "L1OSnxN0nwRP"
      },
      "source": [
        "## Run the solver\n",
        "\n",
        "Call the solve_ivp function to solve the system of ODEs, and check it converged.  Give it the interval over which to solve (running backwards, from large $x$ to small); initial values; and (optionally) the times to store the solution at in t_eval.  Status=0 means success."
      ]
    },
    {
      "cell_type": "code",
      "metadata": {
        "id": "ZywThKcAnwRQ",
        "outputId": "d0e579c9-b421-4d70-8419-8545396c9da0",
        "colab": {
          "base_uri": "https://localhost:8080/",
          "height": 34
        }
      },
      "source": [
        "res=solve_ivp(collapse, (x0, 0.01), [a0, b0], vectorized=True, method='RK45', t_eval=np.logspace(-2, np.log10(x0), 200)[::-1])\n",
        "print(res.status)\n"
      ],
      "execution_count": 4,
      "outputs": [
        {
          "output_type": "stream",
          "text": [
            "0\n"
          ],
          "name": "stdout"
        }
      ]
    },
    {
      "cell_type": "markdown",
      "metadata": {
        "id": "nXqB17VHubUk"
      },
      "source": [
        "## Plot the solutions\n",
        "\n",
        "$\\alpha$ and $\\beta$ have already been evaluated on the grid requested and are stored in `res`.  Also calculate $m = x^2 \\alpha (x - \\beta)$.\n",
        "\n",
        "For comparison also plot the isothermal sphere solutions at large $x$ and asymptotic solutions at small $x$."
      ]
    },
    {
      "cell_type": "code",
      "metadata": {
        "id": "bbH9ita9umNU",
        "outputId": "fca67f74-3023-408a-f6c5-8f042b085bf0",
        "colab": {
          "base_uri": "https://localhost:8080/",
          "height": 823
        }
      },
      "source": [
        "# Overall solutions from solver\n",
        "x_plot=res.t[::-1]\n",
        "alpha_plot=res.y[0][::-1]\n",
        "beta_plot=res.y[1][::-1]\n",
        "m_plot=x_plot**2*alpha_plot*(x_plot-beta_plot)\n",
        "\n",
        "# Isothermal sphere solutions\n",
        "x_iso=np.logspace(0.2, np.log10(np.max(x_plot)), 100)\n",
        "alpha_iso=2/x_iso**2\n",
        "m_iso=2*x_iso\n",
        "\n",
        "# Small-x asymptotic solutions\n",
        "m0=np.min(m_plot)\n",
        "x_sm=np.logspace(np.log10(np.min(x_plot)), np.log10(0.3), 100)\n",
        "beta_sm=-np.sqrt(2*m0/x_sm)\n",
        "alpha_sm=np.sqrt(m0/2/x_sm**3)\n",
        "\n",
        "pyplot.plot(np.log10(x_plot), np.log10(alpha_plot), 'k')\n",
        "pyplot.plot(np.log10(x_iso), np.log10(alpha_iso), 'k--')\n",
        "pyplot.plot(np.log10(x_sm), np.log10(alpha_sm), 'k:')\n",
        "pyplot.xlabel(r'$\\log_{10}(x)$')\n",
        "pyplot.ylabel(r'$\\log_{10}(\\alpha)$')\n",
        "pyplot.gca().set_xticks(np.arange(-2, 1.1, 1))\n",
        "pyplot.show()\n",
        "\n",
        "pyplot.figure()\n",
        "pyplot.plot(np.log10(x_plot), np.log10(-beta_plot), 'k')\n",
        "pyplot.plot(np.log10(x_sm), np.log10(-beta_sm), 'k:')\n",
        "pyplot.xlabel(r'$\\log_{10}(x)$')\n",
        "pyplot.ylabel(r'$\\log_{10}(-\\beta)$')\n",
        "pyplot.gca().set_xticks(np.arange(-2, 1.1, 1))\n",
        "pyplot.gca().set_yticks(np.arange(-2, 2.1, 1))\n",
        "pyplot.show()\n",
        "\n",
        "pyplot.figure()\n",
        "pyplot.plot(np.log10(x_plot), np.log10(m_plot), 'k')\n",
        "pyplot.plot(np.log10(x_iso), np.log10(m_iso), 'k--')\n",
        "pyplot.plot(np.log10(x_sm), np.log10(m0)*np.ones_like(x_sm), 'k:')\n",
        "pyplot.xlabel(r'$\\log_{10}(x)$')\n",
        "pyplot.ylabel(r'$\\log_{10}(m)$')\n",
        "pyplot.gca().set_xticks(np.arange(-2, 1.1, 1))\n",
        "pyplot.gca().set_yticks(np.arange(0, 2.1, 0.5))\n",
        "pyplot.show()\n",
        "\n"
      ],
      "execution_count": 6,
      "outputs": [
        {
          "output_type": "display_data",
          "data": {
            "image/png": "[encoded data removed]",
            "text/plain": [
              "<Figure size 432x288 with 1 Axes>"
            ]
          },
          "metadata": {
            "tags": [],
            "needs_background": "light"
          }
        },
        {
          "output_type": "display_data",
          "data": {
            "image/png": "[encoded data removed]",
            "text/plain": [
              "<Figure size 432x288 with 1 Axes>"
            ]
          },
          "metadata": {
            "tags": [],
            "needs_background": "light"
          }
        },
        {
          "output_type": "display_data",
          "data": {
            "image/png": "[encoded data removed]",
            "text/plain": [
              "<Figure size 432x288 with 1 Axes>"
            ]
          },
          "metadata": {
            "tags": [],
            "needs_background": "light"
          }
        }
      ]
    },
    {
      "cell_type": "markdown",
      "metadata": {
        "id": "GOv4WrYhnwRX"
      },
      "source": [
        "_Download this page [as a Jupyter notebook](https://github.com/vuw-scps/python-physics/raw/master/notebooks/phys417/collapse.ipynb) or as a [standalone Python script](https://github.com/vuw-scps/python-physics/raw/master/scripts/phys417/collapse.py)._"
      ]
    }
  ]
}