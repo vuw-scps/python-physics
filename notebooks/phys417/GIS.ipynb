{
  "nbformat": 4,
  "nbformat_minor": 0,
  "metadata": {
    "kernelspec": {
      "display_name": "Python 3",
      "language": "python",
      "name": "python3"
    },
    "language_info": {
      "codemirror_mode": {
        "name": "ipython",
        "version": 3
      },
      "file_extension": ".py",
      "mimetype": "text/x-python",
      "name": "python",
      "nbconvert_exporter": "python",
      "pygments_lexer": "ipython3",
      "version": "3.7.6"
    },
    "colab": {
      "name": "GIS.ipynb",
      "provenance": []
    }
  },
  "cells": [
    {
      "cell_type": "markdown",
      "metadata": {
        "id": "FR-cLb3MnwQm"
      },
      "source": [
        "Numerical integration of the hydrostatic equilibrium equations for an isothermal sphere.\n",
        "\n",
        "## Required dependencies\n",
        "\n",
        "We load `numpy`, `scipy.integrate.solve_bvp` to solve a boundary value problem for our system of ODEs, and `matplotlib` for plotting the solutions."
      ]
    },
    {
      "cell_type": "code",
      "metadata": {
        "id": "nSkxMORynwQo"
      },
      "source": [
        "import numpy as np\n",
        "from scipy.integrate import solve_bvp\n",
        "from matplotlib import pyplot"
      ],
      "execution_count": 2,
      "outputs": []
    },
    {
      "cell_type": "markdown",
      "metadata": {
        "id": "S2LjD3Q4nwQz"
      },
      "source": [
        "## System of equations\n",
        "\n",
        "Starting from our equation $\\frac{1}{\\xi^2}\\frac{\\mathrm{d}}{\\mathrm{d}{\\xi}}\\xi^2 \\frac{\\mathrm{d}\\psi}{\\mathrm{d}{\\xi}} = e^{-\\psi}$ we apply the chain rule to obtain $\\frac{2}{\\xi}\\frac{\\mathrm{d}\\psi}{\\mathrm{d}{\\xi}}+ \\frac{\\mathrm{d}^2\\psi}{\\mathrm{d}{\\xi^2}} = e^{-\\psi} \\Rightarrow \\frac{\\mathrm{d}^2\\psi}{\\mathrm{d}{\\xi^2}} = -\\frac{2}{\\xi}\\frac{\\mathrm{d}\\psi}{\\mathrm{d}{\\xi}} + e^{-\\psi}$.\n",
        "\n",
        "This allows us to express the system of equations in the way the boundary value solver needs, i.e.\n",
        "\n",
        "$y_1' = y_2$\n",
        "\n",
        "$y_2' = -\\frac{2}{x} y_2 + e^{-y_1}$\n",
        "\n",
        "where $y_1 = \\psi$; $y_2 = y_1' = \\frac{\\mathrm{d}\\psi}{\\mathrm{d}{\\xi}}$; $y_2' = \\frac{\\mathrm{d}^2\\psi}{\\mathrm{d}{\\xi^2}}$.\n",
        "\n",
        "Now implementing the differential functions.  Here $y$ is an array of the two functions $[y_1, y_2]$ and the function returns the two derivatives, $[y_1',y_2']$."
      ]
    },
    {
      "cell_type": "code",
      "metadata": {
        "id": "7Fn-E5TlnwQ4"
      },
      "source": [
        "def GIS(x, y):\n",
        "  return np.vstack((y[1], -2./x*y[1]+np.exp(-y[0])))\n"
      ],
      "execution_count": 3,
      "outputs": []
    },
    {
      "cell_type": "markdown",
      "metadata": {
        "id": "02ds93OvnwQ-"
      },
      "source": [
        "## Boundary conditions\n",
        "\n",
        "Now we also need to implement the boundary condtions.  At $\\xi = x = 0$, we have that $\\frac{\\mathrm{d}\\psi}{\\mathrm{d}{\\xi}} = y_2 = y_1' = 0$ and also $\\psi = y_1 = 0$.  We implement these as a function to minimize (so if the condition was something other than 0 you would return the function $-$ the required value).  ya is the LHS boundary condition, and yb is the RHS boundary condition, which in our case isn't supplied."
      ]
    },
    {
      "cell_type": "code",
      "metadata": {
        "id": "PCKZ3_CSnwRA"
      },
      "source": [
        "def bc(ya, yb):\n",
        "  return np.array([ya[0], ya[1]])\n"
      ],
      "execution_count": 4,
      "outputs": []
    },
    {
      "cell_type": "markdown",
      "metadata": {
        "id": "ieXsxYjSnwRG"
      },
      "source": [
        "## Defining the solution grid\n",
        "\n",
        "We need to specify the $x = \\xi$ values we want to solve on.  $x=0$ is problematic because  of the factor of $2/x$ so we just make the first value something very small.  We also need a solution vector of corresponding size."
      ]
    },
    {
      "cell_type": "code",
      "metadata": {
        "id": "T_Sz1hy2nwRH"
      },
      "source": [
        "x=np.linspace(0, 6, 10)\n",
        "x[0]=1e-10\n",
        "\n",
        "# Solution vector\n",
        "y = np.zeros((2, x.size))\n"
      ],
      "execution_count": 6,
      "outputs": []
    },
    {
      "cell_type": "markdown",
      "metadata": {
        "id": "L1OSnxN0nwRP"
      },
      "source": [
        "## Run the solver\n",
        "\n",
        "Call the solve_bvp function to solve the system of ODEs, and check it converged.  Status=0 means success."
      ]
    },
    {
      "cell_type": "code",
      "metadata": {
        "id": "ZywThKcAnwRQ",
        "outputId": "c7efa950-34e4-4a81-e358-cabc56925cb0",
        "colab": {
          "base_uri": "https://localhost:8080/",
          "height": 34
        }
      },
      "source": [
        "res = solve_bvp(GIS, bc, x, y)\n",
        "print(res.status)\n"
      ],
      "execution_count": 10,
      "outputs": [
        {
          "output_type": "stream",
          "text": [
            "0\n"
          ],
          "name": "stdout"
        }
      ]
    },
    {
      "cell_type": "markdown",
      "metadata": {
        "id": "nXqB17VHubUk"
      },
      "source": [
        "## Plot the solutions\n",
        "\n",
        "Define new grids for evaluating the solutions and plot."
      ]
    },
    {
      "cell_type": "code",
      "metadata": {
        "id": "bbH9ita9umNU",
        "outputId": "33666a22-82a2-4719-aaf0-f6680310073c",
        "colab": {
          "base_uri": "https://localhost:8080/",
          "height": 283
        }
      },
      "source": [
        "x_plot = np.linspace(0, 6, 100)\n",
        "y_plot = res.sol(x_plot)\n",
        "pyplot.plot(x_plot, y_plot[0,:], 'k--', label=r'$\\psi$')\n",
        "pyplot.plot(x_plot, np.exp(-y_plot[0,:]), 'k', label=r'$\\rho/\\rho_k$')\n",
        "pyplot.legend(loc='best')\n",
        "pyplot.xlabel(r'Dimensionless radius $\\xi$')\n",
        "\n",
        "pyplot.gca().set_xticks([0,2,4,6])\n",
        "pyplot.gca().set_yticks([0, 1, 2])\n",
        "\n",
        "pyplot.show()\n"
      ],
      "execution_count": 11,
      "outputs": [
        {
          "output_type": "display_data",
          "data": {
            "image/png": "[encoded data removed]",
            "text/plain": [
              "<Figure size 432x288 with 1 Axes>"
            ]
          },
          "metadata": {
            "tags": [],
            "needs_background": "light"
          }
        }
      ]
    },
    {
      "cell_type": "markdown",
      "metadata": {
        "id": "Dje648XLu4Io"
      },
      "source": [
        "## Calculate and plot mass\n",
        "\n",
        "Use the solutions to also calculate the dimensionless mass, $m=p_0^{1/2} G^{3/2} M_0/ a_T^4$ as a function of the density contrast $\\rho/\\rho_k = e^{-\\psi}$."
      ]
    },
    {
      "cell_type": "code",
      "metadata": {
        "id": "Q9Nksqc0vSeZ",
        "outputId": "6b83b794-d08e-4f1a-9a7f-32566cf33314",
        "colab": {
          "base_uri": "https://localhost:8080/",
          "height": 341
        }
      },
      "source": [
        "# Define initial mesh\n",
        "x=np.linspace(0, 100, 100)\n",
        "# Can't handle x=0 because of the infinity so just make it really small\n",
        "x[0]=1e-10\n",
        "\n",
        "# Solution vector\n",
        "y = np.zeros((2, x.size))\n",
        "\n",
        "# Run the solver\n",
        "res = solve_bvp(GIS, bc, x, y)\n",
        "\n",
        "x_plot = np.linspace(0, 100, 500)\n",
        "y_plot = res.sol(x_plot)\n",
        "\n",
        "psi=y_plot[0,:]\n",
        "xi=x_plot\n",
        "rho_rat=np.exp(-psi)\n",
        "dpsi_dxi=y_plot[1,:]\n",
        "m=1./2/np.sqrt(np.pi)*np.sqrt(rho_rat)*xi**2*dpsi_dxi\n",
        "pyplot.plot(np.log10(1./rho_rat), m, 'k')\n",
        "pyplot.xlabel(r'Density contrast $\\log_{10}(\\rho_k/\\rho_0)$', labelpad=10)\n",
        "pyplot.ylabel(r'Dimensionless mass $m$')\n",
        "pyplot.gca().set_xticks(np.arange(4.1))\n",
        "pyplot.gca().set_yticks(np.arange(0,1.5,0.5))\n"
      ],
      "execution_count": 13,
      "outputs": [
        {
          "output_type": "execute_result",
          "data": {
            "text/plain": [
              "[<matplotlib.axis.YTick at 0x7f7781f6dd30>,\n",
              " <matplotlib.axis.YTick at 0x7f7781f6d710>,\n",
              " <matplotlib.axis.YTick at 0x7f7781f5ceb8>]"
            ]
          },
          "metadata": {
            "tags": []
          },
          "execution_count": 13
        },
        {
          "output_type": "display_data",
          "data": {
            "image/png": "[encoded data removed]",
            "text/plain": [
              "<Figure size 432x288 with 1 Axes>"
            ]
          },
          "metadata": {
            "tags": [],
            "needs_background": "light"
          }
        }
      ]
    },
    {
      "cell_type": "markdown",
      "metadata": {
        "id": "GOv4WrYhnwRX"
      },
      "source": [
        "_Download this page [as a Jupyter notebook](https://github.com/vuw-scps/python-physics/raw/master/notebooks/phys417/GIS.ipynb) or as a [standalone Python script](https://github.com/vuw-scps/python-physics/raw/master/scripts/phys417/gis.py)._"
      ]
    }
  ]
}
