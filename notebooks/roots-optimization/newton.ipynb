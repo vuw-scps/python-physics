{
 "cells": [
  {
   "cell_type": "markdown",
   "metadata": {},
   "source": [
    "# Newton's Method\n",
    "\n",
    "[Newton's method](https://en.wikipedia.org/wiki/Newton%27s_method) is a root finding method that uses linear approximation. In particular, we guess a solution $x_0$ of the equation $f(x)=0$, compute the linear approximation of $f(x)$ at $x_0$ and then find the $x$-intercept of the linear approximation."
   ]
  },
  {
   "cell_type": "markdown",
   "metadata": {},
   "source": [
    "## Formula\n",
    "\n",
    "Let $f(x)$ be a differentiable function. If $x_0$ is near a solution of $f(x)=0$ then we can approximate $f(x)$ by the tangent line at $x_0$ and compute the $x$-intercept of the tangent line. The equation of the tangent line at $x_0$ is\n",
    "\n",
    "$$\n",
    "y = f'(x_0)(x - x_0) + f(x_0)\n",
    "$$\n",
    "\n",
    "The $x$-intercept is the solution $x_1$ of the equation\n",
    "\n",
    "$$\n",
    "0 = f'(x_0)(x_1 - x_0) + f(x_0)\n",
    "$$\n",
    "\n",
    "and we solve for $x_1$\n",
    "\n",
    "$$\n",
    "x_1 = x_0 - \\frac{f(x_0)}{f'(x_0)}\n",
    "$$\n",
    "\n",
    "If we implement this procedure repeatedly, then we obtain a sequence given by the recursive formula\n",
    "\n",
    "$$\n",
    "x_{n+1} = x_n - \\frac{f(x_n)}{f'(x_n)}\n",
    "$$\n",
    "\n",
    "which (potentially) converges to a solution of the equation $f(x)=0$."
   ]
  },
  {
   "cell_type": "markdown",
   "metadata": {},
   "source": [
    "## Advantages/Disadvantages\n",
    "\n",
    "When it converges, Newton's method usually converges very quickly and this is its main advantage. However, Newton's method is not guaranteed to converge and this is obviously a big disadvantage especially compared to the bisection and secant methods which are guaranteed to converge to a solution (provided they start with an interval containing a root).\n",
    "\n",
    "Newton's method also requires computing values of the derivative of the function in question. This is potentially a disadvantage if the derivative is difficult to compute.\n",
    "\n",
    "The stopping criteria for Newton's method differs from the bisection and secant methods. In those methods, we know how close we are to a solution because we are computing intervals which contain a solution. In Newton's method, we don't know how close we are to a solution. All we can compute is the value $f(x)$ and so we implement a stopping criteria based on $f(x)$.\n",
    "\n",
    "Finally, there's no guarantee that the method converges to a solution and we should set a maximum number of iterations so that our implementation ends if we don't find a solution."
   ]
  },
  {
   "cell_type": "markdown",
   "metadata": {},
   "source": [
    "## Implementation\n",
    "\n",
    "Let's write a function called `newton` which takes 5 input parameters `f`, `Df`, `x0`, `epsilon` and `max_iter` and returns an approximation of a solution of $f(x)=0$ by Newton's method. The function may terminate in 3 ways:\n",
    "\n",
    "1. If `abs(f(xn)) < epsilon`, the algorithm has found an approximate solution and returns `xn`.\n",
    "2. If `f'(xn) == 0`, the algorithm stops and returns `None`.\n",
    "3. If the number of iterations exceed `max_iter`, the algorithm stops and returns `None`."
   ]
  },
  {
   "cell_type": "code",
   "execution_count": 1,
   "metadata": {},
   "outputs": [],
   "source": [
    "def newton(f,Df,x0,epsilon,max_iter):\n",
    "    '''Approximate solution of f(x)=0 by Newton's method.\n",
    "\n",
    "    Parameters\n",
    "    ----------\n",
    "    f : function\n",
    "        Function for which we are searching for a solution f(x)=0.\n",
    "    Df : function\n",
    "        Derivative of f(x).\n",
    "    x0 : number\n",
    "        Initial guess for a solution f(x)=0.\n",
    "    epsilon : number\n",
    "        Stopping criteria is abs(f(x)) < epsilon.\n",
    "    max_iter : integer\n",
    "        Maximum number of iterations of Newton's method.\n",
    "\n",
    "    Returns\n",
    "    -------\n",
    "    xn : number\n",
    "        Implement Newton's method: compute the linear approximation\n",
    "        of f(x) at xn and find x intercept by the formula\n",
    "            x = xn - f(xn)/Df(xn)\n",
    "        Continue until abs(f(xn)) < epsilon and return xn.\n",
    "        If Df(xn) == 0, return None. If the number of iterations\n",
    "        exceeds max_iter, then return None.\n",
    "\n",
    "    Examples\n",
    "    --------\n",
    "    >>> f = lambda x: x**2 - x - 1\n",
    "    >>> Df = lambda x: 2*x - 1\n",
    "    >>> newton(f,Df,1,1e-8,10)\n",
    "    Found solution after 5 iterations.\n",
    "    1.618033988749989\n",
    "    '''\n",
    "    xn = x0\n",
    "    for n in range(0,max_iter):\n",
    "        fxn = f(xn)\n",
    "        if abs(fxn) < epsilon:\n",
    "            print('Found solution after',n,'iterations.')\n",
    "            return xn\n",
    "        Dfxn = Df(xn)\n",
    "        if Dfxn == 0:\n",
    "            print('Zero derivative. No solution found.')\n",
    "            return None\n",
    "        xn = xn - fxn/Dfxn\n",
    "    print('Exceeded maximum iterations. No solution found.')\n",
    "    return None"
   ]
  },
  {
   "cell_type": "markdown",
   "metadata": {},
   "source": [
    "## Examples\n",
    "\n",
    "### Supergolden Ratio\n",
    "\n",
    "Let's test our function `newton` on the polynomial $p(x) = x^3 - x^2 - 1$ to approximate the [super golden ratio](https://en.wikipedia.org/wiki/Supergolden_ratio)."
   ]
  },
  {
   "cell_type": "code",
   "execution_count": 2,
   "metadata": {},
   "outputs": [
    {
     "name": "stdout",
     "output_type": "stream",
     "text": [
      "Found solution after 6 iterations.\n",
      "1.4655712318767877\n"
     ]
    }
   ],
   "source": [
    "p = lambda x: x**3 - x**2 - 1\n",
    "Dp = lambda x: 3*x**2 - 2*x\n",
    "approx = newton(p,Dp,1,1e-10,10)\n",
    "print(approx)"
   ]
  },
  {
   "cell_type": "markdown",
   "metadata": {},
   "source": [
    "How many iterations of the bisection method starting with the interval $[1,2]$ can achieve the same accuracy?"
   ]
  },
  {
   "cell_type": "markdown",
   "metadata": {},
   "source": [
    "### Divergent Example\n",
    "\n",
    "Newton's method diverges in certain cases. For example, if the tangent line at the root is vertical as in $f(x)=x^{1/3}$. Note that bisection and secant methods would converge in this case."
   ]
  },
  {
   "cell_type": "code",
   "execution_count": 3,
   "metadata": {},
   "outputs": [
    {
     "name": "stdout",
     "output_type": "stream",
     "text": [
      "Exceeded maximum iterations. No solution found.\n"
     ]
    }
   ],
   "source": [
    "f = lambda x: x**(1/3)\n",
    "Df = lambda x: (1/3)*x**(-2/3)\n",
    "approx = newton(f,Df,0.1,1e-2,100)"
   ]
  },
  {
   "cell_type": "markdown",
   "metadata": {},
   "source": [
    "## Exercises\n",
    "\n",
    "1. Let $p(x) = x^3 - x - 1$. The only real root of $p(x)$ is called the [plastic number](https://en.wikipedia.org/wiki/Plastic_number) and is given by\n",
    "\n",
    "$$\n",
    "\\frac{\\sqrt[3]{108 + 12\\sqrt{69}} + \\sqrt[3]{108 - 12\\sqrt{69}}}{6}\n",
    "$$\n",
    "\n",
    "2. Choose $x_0 = 1$ and implement 2 iterations of Newton's method to approximate the plastic number.\n",
    "3. Use the exact value above to compute the absolute error after 2 iterations of Newton's method.\n",
    "4. Starting with the subinterval $[1,2]$, how many iterations of the bisection method is required to achieve the same accuracy?"
   ]
  }
 ],
 "metadata": {
  "kernelspec": {
   "display_name": "Python 3",
   "language": "python",
   "name": "python3"
  },
  "language_info": {
   "codemirror_mode": {
    "name": "ipython",
    "version": 3
   },
   "file_extension": ".py",
   "mimetype": "text/x-python",
   "name": "python",
   "nbconvert_exporter": "python",
   "pygments_lexer": "ipython3",
   "version": "3.7.3"
  }
 },
 "nbformat": 4,
 "nbformat_minor": 2
}
