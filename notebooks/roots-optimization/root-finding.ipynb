{
 "cells": [
  {
   "cell_type": "markdown",
   "metadata": {},
   "source": [
    "# Root Finding\n",
    "\n",
    "[Root finding](https://en.wikipedia.org/wiki/Root-finding_algorithm) refers to the general problem of searching for a solution of an equation $F(x)=0$ for some function $F(x)$. This is a very general problem and it comes up a lot in mathematics! For example, if we want to optimize a function $f(x)$ then we need to find critical points and therefore solve the equation $f'(x)=0$.\n",
    "\n",
    "There are few examples where there exist exact methods for finding solutions. For example, the [quadratic formula](https://en.wikipedia.org/wiki/Quadratic_formula)\n",
    "\n",
    "$$\n",
    "x = \\frac{-b \\pm \\sqrt{b^2 - 4ac}}{2a}\n",
    "$$\n",
    "\n",
    "gives us an exact method for finding roots of the equation\n",
    "\n",
    "$$\n",
    "ax^2 + bx + c = 0\n",
    "$$\n",
    "\n",
    "There is a [general formula to solve a cubic equation](https://en.wikipedia.org/wiki/Cubic_function#General_solution_to_the_cubic_equation_with_real_coefficients) and even a [quartic (degree 4) equation](https://en.wikipedia.org/wiki/Quartic_function) (but the formula is too complicated to be useful).\n",
    "\n",
    "But there does not exist a formula for a [quintic (degree 5) polynomial](https://en.wikipedia.org/wiki/Quintic_function). And there are *many* more examples of equations with no known method to solve them exactly.\n",
    "\n",
    "What can we do? Use numerical methods to find approximate solutions.              "
   ]
  }
 ],
 "metadata": {
  "kernelspec": {
   "display_name": "Python 3",
   "language": "python",
   "name": "python3"
  },
  "language_info": {
   "codemirror_mode": {
    "name": "ipython",
    "version": 3
   },
   "file_extension": ".py",
   "mimetype": "text/x-python",
   "name": "python",
   "nbconvert_exporter": "python",
   "pygments_lexer": "ipython3",
   "version": "3.7.3"
  }
 },
 "nbformat": 4,
 "nbformat_minor": 2
}
