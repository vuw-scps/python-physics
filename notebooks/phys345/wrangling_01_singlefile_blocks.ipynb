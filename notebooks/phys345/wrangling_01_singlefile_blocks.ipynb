{
 "cells": [
  {
   "cell_type": "markdown",
   "metadata": {},
   "source": [
    "## Reading a data file with multiple data blocks\n",
    "\n"
   ]
  },
  {
   "cell_type": "code",
   "execution_count": 1,
   "metadata": {},
   "outputs": [],
   "source": [
    "import numpy as np\n",
    "import pandas as pd\n",
    "from matplotlib import pyplot\n",
    "import matplotlib.pyplot as plt"
   ]
  },
  {
   "cell_type": "code",
   "execution_count": 2,
   "metadata": {},
   "outputs": [
    {
     "data": {
      "text/html": [
       "<div>\n",
       "<style scoped>\n",
       "    .dataframe tbody tr th:only-of-type {\n",
       "        vertical-align: middle;\n",
       "    }\n",
       "\n",
       "    .dataframe tbody tr th {\n",
       "        vertical-align: top;\n",
       "    }\n",
       "\n",
       "    .dataframe thead th {\n",
       "        text-align: right;\n",
       "    }\n",
       "</style>\n",
       "<table border=\"1\" class=\"dataframe\">\n",
       "  <thead>\n",
       "    <tr style=\"text-align: right;\">\n",
       "      <th></th>\n",
       "      <th>V</th>\n",
       "      <th>A</th>\n",
       "    </tr>\n",
       "  </thead>\n",
       "  <tbody>\n",
       "    <tr>\n",
       "      <th>1</th>\n",
       "      <td>-40.00</td>\n",
       "      <td>-1.424200e-05</td>\n",
       "    </tr>\n",
       "    <tr>\n",
       "      <th>2</th>\n",
       "      <td>-39.85</td>\n",
       "      <td>-1.409100e-05</td>\n",
       "    </tr>\n",
       "    <tr>\n",
       "      <th>3</th>\n",
       "      <td>-39.70</td>\n",
       "      <td>-1.389200e-05</td>\n",
       "    </tr>\n",
       "    <tr>\n",
       "      <th>4</th>\n",
       "      <td>-39.55</td>\n",
       "      <td>-1.377300e-05</td>\n",
       "    </tr>\n",
       "    <tr>\n",
       "      <th>5</th>\n",
       "      <td>-39.40</td>\n",
       "      <td>-1.372700e-05</td>\n",
       "    </tr>\n",
       "    <tr>\n",
       "      <th>...</th>\n",
       "      <td>...</td>\n",
       "      <td>...</td>\n",
       "    </tr>\n",
       "    <tr>\n",
       "      <th>1666</th>\n",
       "      <td>9.35</td>\n",
       "      <td>4.619400e-08</td>\n",
       "    </tr>\n",
       "    <tr>\n",
       "      <th>1667</th>\n",
       "      <td>9.50</td>\n",
       "      <td>-6.069200e-08</td>\n",
       "    </tr>\n",
       "    <tr>\n",
       "      <th>1668</th>\n",
       "      <td>9.65</td>\n",
       "      <td>-7.775500e-08</td>\n",
       "    </tr>\n",
       "    <tr>\n",
       "      <th>1669</th>\n",
       "      <td>9.80</td>\n",
       "      <td>-5.004100e-08</td>\n",
       "    </tr>\n",
       "    <tr>\n",
       "      <th>1670</th>\n",
       "      <td>9.95</td>\n",
       "      <td>2.859200e-08</td>\n",
       "    </tr>\n",
       "  </tbody>\n",
       "</table>\n",
       "<p>1670 rows × 2 columns</p>\n",
       "</div>"
      ],
      "text/plain": [
       "          V             A\n",
       "1    -40.00 -1.424200e-05\n",
       "2    -39.85 -1.409100e-05\n",
       "3    -39.70 -1.389200e-05\n",
       "4    -39.55 -1.377300e-05\n",
       "5    -39.40 -1.372700e-05\n",
       "...     ...           ...\n",
       "1666   9.35  4.619400e-08\n",
       "1667   9.50 -6.069200e-08\n",
       "1668   9.65 -7.775500e-08\n",
       "1669   9.80 -5.004100e-08\n",
       "1670   9.95  2.859200e-08\n",
       "\n",
       "[1670 rows x 2 columns]"
      ]
     },
     "execution_count": 2,
     "metadata": {},
     "output_type": "execute_result"
    }
   ],
   "source": [
    "d = pd.read_csv(\"SIO_2.TXT\", delim_whitespace=True,  skiprows=4)\n",
    "d"
   ]
  },
  {
   "cell_type": "code",
   "execution_count": 100,
   "metadata": {},
   "outputs": [
    {
     "name": "stdout",
     "output_type": "stream",
     "text": [
      "['FET Vds-Id\\n', 'VG= -40 to 9.95 in 0.15 step\\n', 'VDS= -20 to 0 in 5 step\\n', 'NO. VG ID\\n']\n"
     ]
    }
   ],
   "source": [
    "with open(\"SIO_2.TXT\") as f:\n",
    "    head = [next(f) for x in range(4)]\n",
    "print(head)"
   ]
  },
  {
   "cell_type": "code",
   "execution_count": 101,
   "metadata": {},
   "outputs": [
    {
     "data": {
      "text/plain": [
       "(5,)"
      ]
     },
     "execution_count": 101,
     "metadata": {},
     "output_type": "execute_result"
    }
   ],
   "source": [
    "V_G = np.arange(-40,9.95+0.15,step=0.15) # note arange does not include the endpoint, so we go one step further\n",
    "V_G.shape\n",
    "V_DS = np.arange(-20,0+5,step=5) # note arange does not include the endpoint, so we go one step further\n",
    "V_DS.shape"
   ]
  },
  {
   "cell_type": "markdown",
   "metadata": {},
   "source": [
    "Let's check that the information is consistent with the data"
   ]
  },
  {
   "cell_type": "code",
   "execution_count": 102,
   "metadata": {},
   "outputs": [
    {
     "data": {
      "text/plain": [
       "True"
      ]
     },
     "execution_count": 102,
     "metadata": {},
     "output_type": "execute_result"
    }
   ],
   "source": [
    "d.shape[0] / V_G.shape[0] == V_DS.shape[0] \n"
   ]
  },
  {
   "cell_type": "code",
   "execution_count": 119,
   "metadata": {},
   "outputs": [
    {
     "data": {
      "text/html": [
       "<div>\n",
       "<style scoped>\n",
       "    .dataframe tbody tr th:only-of-type {\n",
       "        vertical-align: middle;\n",
       "    }\n",
       "\n",
       "    .dataframe tbody tr th {\n",
       "        vertical-align: top;\n",
       "    }\n",
       "\n",
       "    .dataframe thead th {\n",
       "        text-align: right;\n",
       "    }\n",
       "</style>\n",
       "<table border=\"1\" class=\"dataframe\">\n",
       "  <thead>\n",
       "    <tr style=\"text-align: right;\">\n",
       "      <th></th>\n",
       "      <th>V</th>\n",
       "      <th>A</th>\n",
       "      <th>V_DS</th>\n",
       "      <th>ratio</th>\n",
       "    </tr>\n",
       "  </thead>\n",
       "  <tbody>\n",
       "    <tr>\n",
       "      <th>1</th>\n",
       "      <td>-40.00</td>\n",
       "      <td>-1.424200e-05</td>\n",
       "      <td>-20</td>\n",
       "      <td>2.808594e+06</td>\n",
       "    </tr>\n",
       "    <tr>\n",
       "      <th>2</th>\n",
       "      <td>-39.85</td>\n",
       "      <td>-1.409100e-05</td>\n",
       "      <td>-20</td>\n",
       "      <td>2.828046e+06</td>\n",
       "    </tr>\n",
       "    <tr>\n",
       "      <th>3</th>\n",
       "      <td>-39.70</td>\n",
       "      <td>-1.389200e-05</td>\n",
       "      <td>-20</td>\n",
       "      <td>2.857760e+06</td>\n",
       "    </tr>\n",
       "    <tr>\n",
       "      <th>4</th>\n",
       "      <td>-39.55</td>\n",
       "      <td>-1.377300e-05</td>\n",
       "      <td>-20</td>\n",
       "      <td>2.871560e+06</td>\n",
       "    </tr>\n",
       "    <tr>\n",
       "      <th>5</th>\n",
       "      <td>-39.40</td>\n",
       "      <td>-1.372700e-05</td>\n",
       "      <td>-20</td>\n",
       "      <td>2.870256e+06</td>\n",
       "    </tr>\n",
       "    <tr>\n",
       "      <th>...</th>\n",
       "      <td>...</td>\n",
       "      <td>...</td>\n",
       "      <td>...</td>\n",
       "      <td>...</td>\n",
       "    </tr>\n",
       "    <tr>\n",
       "      <th>1666</th>\n",
       "      <td>9.35</td>\n",
       "      <td>4.619400e-08</td>\n",
       "      <td>0</td>\n",
       "      <td>2.024072e+08</td>\n",
       "    </tr>\n",
       "    <tr>\n",
       "      <th>1667</th>\n",
       "      <td>9.50</td>\n",
       "      <td>-6.069200e-08</td>\n",
       "      <td>0</td>\n",
       "      <td>-1.565280e+08</td>\n",
       "    </tr>\n",
       "    <tr>\n",
       "      <th>1668</th>\n",
       "      <td>9.65</td>\n",
       "      <td>-7.775500e-08</td>\n",
       "      <td>0</td>\n",
       "      <td>-1.241078e+08</td>\n",
       "    </tr>\n",
       "    <tr>\n",
       "      <th>1669</th>\n",
       "      <td>9.80</td>\n",
       "      <td>-5.004100e-08</td>\n",
       "      <td>0</td>\n",
       "      <td>-1.958394e+08</td>\n",
       "    </tr>\n",
       "    <tr>\n",
       "      <th>1670</th>\n",
       "      <td>9.95</td>\n",
       "      <td>2.859200e-08</td>\n",
       "      <td>0</td>\n",
       "      <td>3.479994e+08</td>\n",
       "    </tr>\n",
       "  </tbody>\n",
       "</table>\n",
       "<p>1670 rows × 4 columns</p>\n",
       "</div>"
      ],
      "text/plain": [
       "          V             A  V_DS         ratio\n",
       "1    -40.00 -1.424200e-05   -20  2.808594e+06\n",
       "2    -39.85 -1.409100e-05   -20  2.828046e+06\n",
       "3    -39.70 -1.389200e-05   -20  2.857760e+06\n",
       "4    -39.55 -1.377300e-05   -20  2.871560e+06\n",
       "5    -39.40 -1.372700e-05   -20  2.870256e+06\n",
       "...     ...           ...   ...           ...\n",
       "1666   9.35  4.619400e-08     0  2.024072e+08\n",
       "1667   9.50 -6.069200e-08     0 -1.565280e+08\n",
       "1668   9.65 -7.775500e-08     0 -1.241078e+08\n",
       "1669   9.80 -5.004100e-08     0 -1.958394e+08\n",
       "1670   9.95  2.859200e-08     0  3.479994e+08\n",
       "\n",
       "[1670 rows x 4 columns]"
      ]
     },
     "execution_count": 119,
     "metadata": {},
     "output_type": "execute_result"
    }
   ],
   "source": [
    "# d[\"V_DS\"] = np.tile(V_DS, V_G.shape[0])\n",
    "d[\"V_DS\"] = np.repeat(V_DS, V_G.shape[0])\n",
    "d"
   ]
  },
  {
   "cell_type": "markdown",
   "metadata": {},
   "source": [
    "We may sometimes want to convert from long to wide format, so that all the measurements are in separate columns:"
   ]
  },
  {
   "cell_type": "code",
   "execution_count": 104,
   "metadata": {},
   "outputs": [
    {
     "data": {
      "text/html": [
       "<div>\n",
       "<style scoped>\n",
       "    .dataframe tbody tr th:only-of-type {\n",
       "        vertical-align: middle;\n",
       "    }\n",
       "\n",
       "    .dataframe tbody tr th {\n",
       "        vertical-align: top;\n",
       "    }\n",
       "\n",
       "    .dataframe thead th {\n",
       "        text-align: right;\n",
       "    }\n",
       "</style>\n",
       "<table border=\"1\" class=\"dataframe\">\n",
       "  <thead>\n",
       "    <tr style=\"text-align: right;\">\n",
       "      <th>V_DS</th>\n",
       "      <th>-20</th>\n",
       "      <th>-15</th>\n",
       "      <th>-10</th>\n",
       "      <th>-5</th>\n",
       "      <th>0</th>\n",
       "    </tr>\n",
       "    <tr>\n",
       "      <th>V</th>\n",
       "      <th></th>\n",
       "      <th></th>\n",
       "      <th></th>\n",
       "      <th></th>\n",
       "      <th></th>\n",
       "    </tr>\n",
       "  </thead>\n",
       "  <tbody>\n",
       "    <tr>\n",
       "      <th>-40.00</th>\n",
       "      <td>-1.424200e-05</td>\n",
       "      <td>-1.177200e-05</td>\n",
       "      <td>-7.496500e-06</td>\n",
       "      <td>-2.533700e-06</td>\n",
       "      <td>2.892200e-06</td>\n",
       "    </tr>\n",
       "    <tr>\n",
       "      <th>-39.85</th>\n",
       "      <td>-1.409100e-05</td>\n",
       "      <td>-1.176200e-05</td>\n",
       "      <td>-7.583800e-06</td>\n",
       "      <td>-2.718800e-06</td>\n",
       "      <td>2.782900e-06</td>\n",
       "    </tr>\n",
       "    <tr>\n",
       "      <th>-39.70</th>\n",
       "      <td>-1.389200e-05</td>\n",
       "      <td>-1.176300e-05</td>\n",
       "      <td>-7.524300e-06</td>\n",
       "      <td>-2.730000e-06</td>\n",
       "      <td>2.615600e-06</td>\n",
       "    </tr>\n",
       "    <tr>\n",
       "      <th>-39.55</th>\n",
       "      <td>-1.377300e-05</td>\n",
       "      <td>-1.163400e-05</td>\n",
       "      <td>-7.443200e-06</td>\n",
       "      <td>-2.722000e-06</td>\n",
       "      <td>2.414700e-06</td>\n",
       "    </tr>\n",
       "    <tr>\n",
       "      <th>-39.40</th>\n",
       "      <td>-1.372700e-05</td>\n",
       "      <td>-1.147100e-05</td>\n",
       "      <td>-7.477000e-06</td>\n",
       "      <td>-2.816800e-06</td>\n",
       "      <td>2.359900e-06</td>\n",
       "    </tr>\n",
       "    <tr>\n",
       "      <th>...</th>\n",
       "      <td>...</td>\n",
       "      <td>...</td>\n",
       "      <td>...</td>\n",
       "      <td>...</td>\n",
       "      <td>...</td>\n",
       "    </tr>\n",
       "    <tr>\n",
       "      <th>9.35</th>\n",
       "      <td>-9.515400e-08</td>\n",
       "      <td>-2.034900e-08</td>\n",
       "      <td>-1.250400e-07</td>\n",
       "      <td>-9.001600e-08</td>\n",
       "      <td>4.619400e-08</td>\n",
       "    </tr>\n",
       "    <tr>\n",
       "      <th>9.50</th>\n",
       "      <td>-6.714200e-08</td>\n",
       "      <td>-1.200300e-07</td>\n",
       "      <td>-6.741000e-08</td>\n",
       "      <td>-1.037900e-08</td>\n",
       "      <td>-6.069200e-08</td>\n",
       "    </tr>\n",
       "    <tr>\n",
       "      <th>9.65</th>\n",
       "      <td>-7.140100e-08</td>\n",
       "      <td>-7.929000e-08</td>\n",
       "      <td>-5.859100e-08</td>\n",
       "      <td>1.502000e-08</td>\n",
       "      <td>-7.775500e-08</td>\n",
       "    </tr>\n",
       "    <tr>\n",
       "      <th>9.80</th>\n",
       "      <td>-6.897400e-08</td>\n",
       "      <td>-5.587900e-08</td>\n",
       "      <td>-2.203300e-08</td>\n",
       "      <td>-2.938900e-08</td>\n",
       "      <td>-5.004100e-08</td>\n",
       "    </tr>\n",
       "    <tr>\n",
       "      <th>9.95</th>\n",
       "      <td>-6.461200e-08</td>\n",
       "      <td>-5.862800e-08</td>\n",
       "      <td>-4.856000e-09</td>\n",
       "      <td>-9.029000e-08</td>\n",
       "      <td>2.859200e-08</td>\n",
       "    </tr>\n",
       "  </tbody>\n",
       "</table>\n",
       "<p>334 rows × 5 columns</p>\n",
       "</div>"
      ],
      "text/plain": [
       "V_DS             -20           -15           -10           -5             0 \n",
       "V                                                                           \n",
       "-40.00 -1.424200e-05 -1.177200e-05 -7.496500e-06 -2.533700e-06  2.892200e-06\n",
       "-39.85 -1.409100e-05 -1.176200e-05 -7.583800e-06 -2.718800e-06  2.782900e-06\n",
       "-39.70 -1.389200e-05 -1.176300e-05 -7.524300e-06 -2.730000e-06  2.615600e-06\n",
       "-39.55 -1.377300e-05 -1.163400e-05 -7.443200e-06 -2.722000e-06  2.414700e-06\n",
       "-39.40 -1.372700e-05 -1.147100e-05 -7.477000e-06 -2.816800e-06  2.359900e-06\n",
       "...              ...           ...           ...           ...           ...\n",
       " 9.35  -9.515400e-08 -2.034900e-08 -1.250400e-07 -9.001600e-08  4.619400e-08\n",
       " 9.50  -6.714200e-08 -1.200300e-07 -6.741000e-08 -1.037900e-08 -6.069200e-08\n",
       " 9.65  -7.140100e-08 -7.929000e-08 -5.859100e-08  1.502000e-08 -7.775500e-08\n",
       " 9.80  -6.897400e-08 -5.587900e-08 -2.203300e-08 -2.938900e-08 -5.004100e-08\n",
       " 9.95  -6.461200e-08 -5.862800e-08 -4.856000e-09 -9.029000e-08  2.859200e-08\n",
       "\n",
       "[334 rows x 5 columns]"
      ]
     },
     "execution_count": 104,
     "metadata": {},
     "output_type": "execute_result"
    }
   ],
   "source": [
    "d.pivot(index='V', columns='V_DS', values='A')"
   ]
  },
  {
   "cell_type": "markdown",
   "metadata": {},
   "source": [
    "We can now, for example, plot the I/V data by groups:"
   ]
  },
  {
   "cell_type": "code",
   "execution_count": 111,
   "metadata": {},
   "outputs": [
    {
     "data": {
      "image/png": "[encoded data removed]",
      "text/plain": [
       "<Figure size 640x480 with 1 Axes>"
      ]
     },
     "metadata": {},
     "output_type": "display_data"
    },
    {
     "data": {
      "text/plain": [
       "<ggplot: (8769427903199)>"
      ]
     },
     "execution_count": 111,
     "metadata": {},
     "output_type": "execute_result"
    }
   ],
   "source": [
    "#conda install -c conda-forge plotnine \n",
    "from plotnine import *\n",
    "# note the use of parentheses, because the syntax below (+) is non-standard in Python\n",
    "(ggplot(d) +\n",
    "  geom_point(aes(x = 'V',\n",
    "                  y = 'A',\n",
    "                  color = 'factor(V_DS)')) +\n",
    "  labs(colour = 'V_DS', x = \"Voltage\", y = \"Current\"))"
   ]
  },
  {
   "cell_type": "markdown",
   "metadata": {},
   "source": [
    "Another type of thing we might do with this 'long' format is to transform or summarise the data by V_DS value, with the [split-apply-combine strategy](https://pandas.pydata.org/docs/user_guide/groupby.html):"
   ]
  },
  {
   "cell_type": "code",
   "execution_count": 106,
   "metadata": {},
   "outputs": [
    {
     "data": {
      "text/html": [
       "<div>\n",
       "<style scoped>\n",
       "    .dataframe tbody tr th:only-of-type {\n",
       "        vertical-align: middle;\n",
       "    }\n",
       "\n",
       "    .dataframe tbody tr th {\n",
       "        vertical-align: top;\n",
       "    }\n",
       "\n",
       "    .dataframe thead th {\n",
       "        text-align: right;\n",
       "    }\n",
       "</style>\n",
       "<table border=\"1\" class=\"dataframe\">\n",
       "  <thead>\n",
       "    <tr style=\"text-align: right;\">\n",
       "      <th></th>\n",
       "      <th>V</th>\n",
       "      <th>A</th>\n",
       "      <th>V_DS</th>\n",
       "      <th>ratio</th>\n",
       "    </tr>\n",
       "  </thead>\n",
       "  <tbody>\n",
       "    <tr>\n",
       "      <th>1</th>\n",
       "      <td>-40.00</td>\n",
       "      <td>-1.424200e-05</td>\n",
       "      <td>-20</td>\n",
       "      <td>2.808594e+06</td>\n",
       "    </tr>\n",
       "    <tr>\n",
       "      <th>2</th>\n",
       "      <td>-39.85</td>\n",
       "      <td>-1.409100e-05</td>\n",
       "      <td>-20</td>\n",
       "      <td>2.828046e+06</td>\n",
       "    </tr>\n",
       "    <tr>\n",
       "      <th>3</th>\n",
       "      <td>-39.70</td>\n",
       "      <td>-1.389200e-05</td>\n",
       "      <td>-20</td>\n",
       "      <td>2.857760e+06</td>\n",
       "    </tr>\n",
       "    <tr>\n",
       "      <th>4</th>\n",
       "      <td>-39.55</td>\n",
       "      <td>-1.377300e-05</td>\n",
       "      <td>-20</td>\n",
       "      <td>2.871560e+06</td>\n",
       "    </tr>\n",
       "    <tr>\n",
       "      <th>5</th>\n",
       "      <td>-39.40</td>\n",
       "      <td>-1.372700e-05</td>\n",
       "      <td>-20</td>\n",
       "      <td>2.870256e+06</td>\n",
       "    </tr>\n",
       "    <tr>\n",
       "      <th>...</th>\n",
       "      <td>...</td>\n",
       "      <td>...</td>\n",
       "      <td>...</td>\n",
       "      <td>...</td>\n",
       "    </tr>\n",
       "    <tr>\n",
       "      <th>1666</th>\n",
       "      <td>9.35</td>\n",
       "      <td>4.619400e-08</td>\n",
       "      <td>0</td>\n",
       "      <td>2.024072e+08</td>\n",
       "    </tr>\n",
       "    <tr>\n",
       "      <th>1667</th>\n",
       "      <td>9.50</td>\n",
       "      <td>-6.069200e-08</td>\n",
       "      <td>0</td>\n",
       "      <td>-1.565280e+08</td>\n",
       "    </tr>\n",
       "    <tr>\n",
       "      <th>1668</th>\n",
       "      <td>9.65</td>\n",
       "      <td>-7.775500e-08</td>\n",
       "      <td>0</td>\n",
       "      <td>-1.241078e+08</td>\n",
       "    </tr>\n",
       "    <tr>\n",
       "      <th>1669</th>\n",
       "      <td>9.80</td>\n",
       "      <td>-5.004100e-08</td>\n",
       "      <td>0</td>\n",
       "      <td>-1.958394e+08</td>\n",
       "    </tr>\n",
       "    <tr>\n",
       "      <th>1670</th>\n",
       "      <td>9.95</td>\n",
       "      <td>2.859200e-08</td>\n",
       "      <td>0</td>\n",
       "      <td>3.479994e+08</td>\n",
       "    </tr>\n",
       "  </tbody>\n",
       "</table>\n",
       "<p>1670 rows × 4 columns</p>\n",
       "</div>"
      ],
      "text/plain": [
       "          V             A  V_DS         ratio\n",
       "1    -40.00 -1.424200e-05   -20  2.808594e+06\n",
       "2    -39.85 -1.409100e-05   -20  2.828046e+06\n",
       "3    -39.70 -1.389200e-05   -20  2.857760e+06\n",
       "4    -39.55 -1.377300e-05   -20  2.871560e+06\n",
       "5    -39.40 -1.372700e-05   -20  2.870256e+06\n",
       "...     ...           ...   ...           ...\n",
       "1666   9.35  4.619400e-08     0  2.024072e+08\n",
       "1667   9.50 -6.069200e-08     0 -1.565280e+08\n",
       "1668   9.65 -7.775500e-08     0 -1.241078e+08\n",
       "1669   9.80 -5.004100e-08     0 -1.958394e+08\n",
       "1670   9.95  2.859200e-08     0  3.479994e+08\n",
       "\n",
       "[1670 rows x 4 columns]"
      ]
     },
     "execution_count": 106,
     "metadata": {},
     "output_type": "execute_result"
    }
   ],
   "source": [
    "def IV_ratio(x):\n",
    "    return  x['V'] / x['A']\n",
    "\n",
    "d[\"ratio\"] = d.groupby(\"V_DS\").apply(IV_ratio).values\n",
    "d"
   ]
  },
  {
   "cell_type": "code",
   "execution_count": 117,
   "metadata": {},
   "outputs": [],
   "source": [
    "# d.groupby(\"V_DS\").apply(lambda x: x.max() - x.min())"
   ]
  },
  {
   "cell_type": "code",
   "execution_count": 109,
   "metadata": {},
   "outputs": [
    {
     "name": "stderr",
     "output_type": "stream",
     "text": [
      "/Users/baptiste/opt/anaconda3/lib/python3.9/site-packages/pandas/core/arraylike.py:397: RuntimeWarning: invalid value encountered in log10\n",
      "/Users/baptiste/opt/anaconda3/lib/python3.9/site-packages/plotnine/layer.py:412: PlotnineWarning: geom_point : Removed 542 rows containing missing values.\n"
     ]
    },
    {
     "data": {
      "image/png": "[encoded data removed]",
      "text/plain": [
       "<Figure size 640x480 with 1 Axes>"
      ]
     },
     "metadata": {},
     "output_type": "display_data"
    },
    {
     "data": {
      "text/plain": [
       "<ggplot: (8769470026379)>"
      ]
     },
     "execution_count": 109,
     "metadata": {},
     "output_type": "execute_result"
    }
   ],
   "source": [
    "(ggplot(d) +\n",
    "  geom_point(aes(x = 'V',\n",
    "                  y = 'ratio',\n",
    "                  color = 'factor(V_DS)')) +\n",
    "  scale_y_log10() +\n",
    "  labs(colour = 'V_DS', x = \"Voltage\", y = \"Impedance\"))"
   ]
  },
  {
   "cell_type": "markdown",
   "metadata": {},
   "source": [
    "_Download this page [as a Jupyter notebook](https://github.com/vuw-scps/python-physics/raw/master/notebooks/phys345/wrangling_01_singlefile_blocks.ipynb) or as a [standalone Python script](https://github.com/vuw-scps/python-physics/raw/master/scripts/phys345/wrangling_01_singlefile_blocks.py)._"
   ]
  }
 ],
 "metadata": {
  "kernelspec": {
   "display_name": "Python 3.7.6 ('pyforge')",
   "language": "python",
   "name": "python3"
  },
  "language_info": {
   "codemirror_mode": {
    "name": "ipython",
    "version": 3
   },
   "file_extension": ".py",
   "mimetype": "text/x-python",
   "name": "python",
   "nbconvert_exporter": "python",
   "pygments_lexer": "ipython3",
   "version": "3.7.6"
  },
  "vscode": {
   "interpreter": {
    "hash": "52e486ffca2dc46017037f196a27bd6f1a49af87f4b8e1bd099b444527a6ce4b"
   }
  }
 },
 "nbformat": 4,
 "nbformat_minor": 4
}
