{
 "cells": [
  {
   "cell_type": "markdown",
   "id": "2127c89a",
   "metadata": {},
   "source": [
    "## Revisiting the nonlinear fitting example from a Bayesian viewpoint\n",
    "\n",
    "For simplicity, we'll start with a simplified model that has only 2 parameters instead of 5. The original model was\n",
    "\n",
    "$$\n",
    "y(x) = b_1 \\exp\\left(-b_2 x\\right) + \\frac{b_3}{b_5\\sqrt{2\\pi}} \\exp\\left(-\\tfrac12\\frac{(x-b_4)^2}{b_5^2}\\right)\n",
    "$$\n",
    "\n",
    "(the sum of a decaying exponential background, and a Gaussian peak). We can assume, for example, that we already know the values of parameters $b_1=1.12,b_4=3.26,b_5=1.48$, such that our simplified model reads:\n",
    "\n",
    "$$\n",
    "y(x) = 1.12 \\exp\\left(-b_2 x\\right) + \\frac{b_3}{1.48\\sqrt{2\\pi}} \\exp\\left(-\\tfrac12\\frac{(x-3.26)^2}{1.48^2}\\right)\n",
    "$$\n",
    "\n",
    "We first load some standard packages, including `scipy.optimize` and `lmfit` for the nonlinear optimisation.\n"
   ]
  },
  {
   "cell_type": "code",
   "execution_count": 49,
   "id": "1636de0e",
   "metadata": {},
   "outputs": [],
   "source": [
    "import numpy as np\n",
    "import os, sys\n",
    "from numpy import exp, pi, sqrt\n",
    "\n",
    "from numpy import linspace\n",
    "\n",
    "import pandas as pd\n",
    "from matplotlib import pyplot\n",
    "import matplotlib.pyplot as plt\n",
    "from statistics import stdev\n",
    "import scipy.optimize as optimization\n",
    "from lmfit import minimize, Parameters, report_fit\n",
    "from scipy.optimize import leastsq\n",
    "import emcee #conda install -c conda-forge emcee"
   ]
  },
  {
   "cell_type": "markdown",
   "id": "ecad9c97",
   "metadata": {},
   "source": [
    "Define our simplified model, "
   ]
  },
  {
   "cell_type": "code",
   "execution_count": 18,
   "id": "9f29ccc6",
   "metadata": {},
   "outputs": [],
   "source": [
    "\n",
    "# def model_peak(x, b1, b2, b3, b4, b5):\n",
    "#     return b1*exp(-b2*x) + b3/(sqrt(2*np.pi)*b5)*exp(-0.5*(x-b4)**2 / b5**2)\n",
    "\n",
    "\n",
    "def model_peak(x, b2, b3):\n",
    "    return 1.12*exp(-b2*x) + b3/(sqrt(2*np.pi)*1.48)*exp(-0.5*(x-3.26)**2 / 1.48**2)\n"
   ]
  },
  {
   "cell_type": "markdown",
   "id": "4d6d198b",
   "metadata": {},
   "source": [
    "### Defining the Likelihood\n",
    "\n",
    "\n",
    "In the context of Bayesian inference, a _\"nonlinear fit\"_ is understood as the most probable set of parameters for the posterior distribution. From Bayes' theorem, the posterior distribution is obtained as:\n",
    "\n",
    "$$\n",
    "P(M|D,I) = \\frac{P(D|M,I)P(M,I)}{P(D,I)}\n",
    "$$\n",
    "where $M$ stands for _Model parameters_, $D$ for _Data_, $I$ is general information about the problem (such as our choice of a theoretical model – one could imagine an independent hypothesis). The different terms in this formula are known as:\n",
    "\n",
    "- $P(M|D,I)$: **Posterior** distribution of the model parameters, given our prior knowledge and the data\n",
    "- $P(M,I)$: **Prior** distribution of the model parameters, before taking the data into account\n",
    "- $\\mathcal{L}\\equiv P(D|M,I)$: **Likelihood** probability of the observed data, given some parameters of the chosen model\n",
    "- $P(D,I)$: **Evidence** normalisation factor to ensure that the posterior distribution is correctly normalised (can be used to compare models)\n",
    "\n",
    "In our case we will ignore the normalisation factor and simply calculate $P(M|D,I) \\propto P(D|M,I)P(M,I)$.\n",
    "\n",
    "When we have little information on the model parameters, the prior distribution may be taken as a constant over the range of values we consider realistic. In such a case, finding the maximum of the posterior distribution is equivalent to maximising the likelihood – this leads to the Maximum Likelihood \"principle\" used in nonlinear fitting, here justified as a special case of the Bayesian approach.\n",
    "\n",
    "A further simplification is often applied in practice, which leads to the minimisation of the sum of squares: in the case of Gaussian, independent noise, $\\mathcal{L}=\\Pr(D|M,I) = (2\\pi)^{-N/2} \\exp \\left [-1/2 \\sum_{i=1}^{N}\\left(\\frac{y_i - \\text{model}(x_i,M)}{\\sigma_i}\\right)^2\\right ] \\prod_i^N \\sigma_i^{-1}$ where $N$ is the number of datapoints $(x_i,y_i)$ and $\\sigma_i$ is the error on each individual datapoint.  For computational reasons, it is advantageous to maximise the logarithm of the likelihood (in fact, minimise the negative of the log-likelihood $-\\log\\mathcal{L}$), rather than the likelihood itself, and we end up with the common sum of squares objective function:\n",
    "\n",
    "$$\n",
    "\\chi^2 = \\sum_{i=1}^{N}\\left(\\frac{y_i - \\text{model}(x_i,M)}{\\sigma_i}\\right)^2\n",
    "$$\n",
    "\n",
    "which is to be minimised. Intuitively, we wish to find the model parameters that minimise the discrepancy between the model's predicted values, and the observations $y_i$.\n",
    "\n",
    "We follow the formula above to implement the log-likelihood (note: $\\theta$ is a common convention for the vector of model parameters, in our case $[b_2,b_3]$)."
   ]
  },
  {
   "cell_type": "code",
   "execution_count": 19,
   "id": "92cd071b",
   "metadata": {},
   "outputs": [],
   "source": [
    "\n",
    "def log_likelihood(theta, x, y, yerr):\n",
    "    b2, b3 = theta\n",
    "    model = model_peak(x, b2, b3)\n",
    "    logLhood0=np.size(y)/2*np.log(2*np.pi)+np.sum(np.log(yerr))\n",
    "    chi2=np.sum(((y - model)/yerr)**2)\n",
    "    return -chi2/2-logLhood0\n"
   ]
  },
  {
   "cell_type": "markdown",
   "id": "be004eda",
   "metadata": {},
   "source": [
    "### Maximising the log-likelihood\n",
    "\n",
    "We first load the data and check them with a plot"
   ]
  },
  {
   "cell_type": "code",
   "execution_count": 20,
   "id": "c60c24f5",
   "metadata": {},
   "outputs": [
    {
     "data": {
      "text/html": [
       "<div>\n",
       "<style scoped>\n",
       "    .dataframe tbody tr th:only-of-type {\n",
       "        vertical-align: middle;\n",
       "    }\n",
       "\n",
       "    .dataframe tbody tr th {\n",
       "        vertical-align: top;\n",
       "    }\n",
       "\n",
       "    .dataframe thead th {\n",
       "        text-align: right;\n",
       "    }\n",
       "</style>\n",
       "<table border=\"1\" class=\"dataframe\">\n",
       "  <thead>\n",
       "    <tr style=\"text-align: right;\">\n",
       "      <th></th>\n",
       "      <th>x</th>\n",
       "      <th>y</th>\n",
       "      <th>sigma</th>\n",
       "    </tr>\n",
       "  </thead>\n",
       "  <tbody>\n",
       "    <tr>\n",
       "      <th>0</th>\n",
       "      <td>0.000</td>\n",
       "      <td>1.17747</td>\n",
       "      <td>0.0357</td>\n",
       "    </tr>\n",
       "    <tr>\n",
       "      <th>1</th>\n",
       "      <td>0.526</td>\n",
       "      <td>0.64436</td>\n",
       "      <td>0.0272</td>\n",
       "    </tr>\n",
       "    <tr>\n",
       "      <th>2</th>\n",
       "      <td>1.053</td>\n",
       "      <td>0.53100</td>\n",
       "      <td>0.0353</td>\n",
       "    </tr>\n",
       "    <tr>\n",
       "      <th>3</th>\n",
       "      <td>1.579</td>\n",
       "      <td>0.52761</td>\n",
       "      <td>0.0323</td>\n",
       "    </tr>\n",
       "    <tr>\n",
       "      <th>4</th>\n",
       "      <td>2.105</td>\n",
       "      <td>0.64534</td>\n",
       "      <td>0.0313</td>\n",
       "    </tr>\n",
       "    <tr>\n",
       "      <th>5</th>\n",
       "      <td>2.632</td>\n",
       "      <td>0.80235</td>\n",
       "      <td>0.0419</td>\n",
       "    </tr>\n",
       "    <tr>\n",
       "      <th>6</th>\n",
       "      <td>3.158</td>\n",
       "      <td>0.82748</td>\n",
       "      <td>0.0334</td>\n",
       "    </tr>\n",
       "    <tr>\n",
       "      <th>7</th>\n",
       "      <td>3.684</td>\n",
       "      <td>0.74864</td>\n",
       "      <td>0.0265</td>\n",
       "    </tr>\n",
       "    <tr>\n",
       "      <th>8</th>\n",
       "      <td>4.211</td>\n",
       "      <td>0.64265</td>\n",
       "      <td>0.0364</td>\n",
       "    </tr>\n",
       "    <tr>\n",
       "      <th>9</th>\n",
       "      <td>4.737</td>\n",
       "      <td>0.48122</td>\n",
       "      <td>0.0375</td>\n",
       "    </tr>\n",
       "    <tr>\n",
       "      <th>10</th>\n",
       "      <td>5.263</td>\n",
       "      <td>0.35455</td>\n",
       "      <td>0.0293</td>\n",
       "    </tr>\n",
       "    <tr>\n",
       "      <th>11</th>\n",
       "      <td>5.789</td>\n",
       "      <td>0.19687</td>\n",
       "      <td>0.0280</td>\n",
       "    </tr>\n",
       "    <tr>\n",
       "      <th>12</th>\n",
       "      <td>6.316</td>\n",
       "      <td>0.10605</td>\n",
       "      <td>0.0340</td>\n",
       "    </tr>\n",
       "    <tr>\n",
       "      <th>13</th>\n",
       "      <td>6.842</td>\n",
       "      <td>0.04602</td>\n",
       "      <td>0.0338</td>\n",
       "    </tr>\n",
       "    <tr>\n",
       "      <th>14</th>\n",
       "      <td>7.368</td>\n",
       "      <td>0.00328</td>\n",
       "      <td>0.0332</td>\n",
       "    </tr>\n",
       "    <tr>\n",
       "      <th>15</th>\n",
       "      <td>7.895</td>\n",
       "      <td>0.05068</td>\n",
       "      <td>0.0319</td>\n",
       "    </tr>\n",
       "    <tr>\n",
       "      <th>16</th>\n",
       "      <td>8.421</td>\n",
       "      <td>0.01430</td>\n",
       "      <td>0.0305</td>\n",
       "    </tr>\n",
       "    <tr>\n",
       "      <th>17</th>\n",
       "      <td>8.947</td>\n",
       "      <td>-0.04866</td>\n",
       "      <td>0.0256</td>\n",
       "    </tr>\n",
       "    <tr>\n",
       "      <th>18</th>\n",
       "      <td>9.474</td>\n",
       "      <td>0.01765</td>\n",
       "      <td>0.0281</td>\n",
       "    </tr>\n",
       "    <tr>\n",
       "      <th>19</th>\n",
       "      <td>10.000</td>\n",
       "      <td>-0.01179</td>\n",
       "      <td>0.0288</td>\n",
       "    </tr>\n",
       "  </tbody>\n",
       "</table>\n",
       "</div>"
      ],
      "text/plain": [
       "         x        y   sigma\n",
       "0    0.000  1.17747  0.0357\n",
       "1    0.526  0.64436  0.0272\n",
       "2    1.053  0.53100  0.0353\n",
       "3    1.579  0.52761  0.0323\n",
       "4    2.105  0.64534  0.0313\n",
       "5    2.632  0.80235  0.0419\n",
       "6    3.158  0.82748  0.0334\n",
       "7    3.684  0.74864  0.0265\n",
       "8    4.211  0.64265  0.0364\n",
       "9    4.737  0.48122  0.0375\n",
       "10   5.263  0.35455  0.0293\n",
       "11   5.789  0.19687  0.0280\n",
       "12   6.316  0.10605  0.0340\n",
       "13   6.842  0.04602  0.0338\n",
       "14   7.368  0.00328  0.0332\n",
       "15   7.895  0.05068  0.0319\n",
       "16   8.421  0.01430  0.0305\n",
       "17   8.947 -0.04866  0.0256\n",
       "18   9.474  0.01765  0.0281\n",
       "19  10.000 -0.01179  0.0288"
      ]
     },
     "execution_count": 20,
     "metadata": {},
     "output_type": "execute_result"
    }
   ],
   "source": [
    "data = pd.read_csv(\"exppeak.txt\", header=0, delim_whitespace=True)\n",
    "data\n"
   ]
  },
  {
   "cell_type": "markdown",
   "id": "6df150bc",
   "metadata": {},
   "source": [
    "Next we find the optimum model parameters by minimising the (negative) log-likelihood, and confirm graphically that the fit is reasonable:"
   ]
  },
  {
   "cell_type": "code",
   "execution_count": 29,
   "id": "5a3639f1",
   "metadata": {},
   "outputs": [
    {
     "name": "stdout",
     "output_type": "stream",
     "text": [
      "Maximum likelihood estimates:\n",
      "b2 = 1.476\n",
      "b3 = 2.989\n",
      "Covariance matrix:\n",
      "[[0.00639495 0.00200981]\n",
      " [0.00200981 0.00357813]]\n",
      "Uncertainties:\n",
      "[0.07996843 0.05981751]\n"
     ]
    },
    {
     "data": {
      "text/plain": [
       "Text(0, 0.5, 'y')"
      ]
     },
     "execution_count": 29,
     "metadata": {},
     "output_type": "execute_result"
    },
    {
     "data": {
      "image/png": "[encoded data removed]",
      "text/plain": [
       "<Figure size 432x288 with 1 Axes>"
      ]
     },
     "metadata": {
      "needs_background": "light"
     },
     "output_type": "display_data"
    }
   ],
   "source": [
    "nll = lambda *args: -log_likelihood(*args) # wrapper function to expand a vector of parameters as arguments\n",
    "initial = [ 1, 1]\n",
    "soln = optimization.minimize(nll, initial, args=(data.x, data.y, data.sigma))\n",
    "b2, b3 = soln.x\n",
    "err = np.sqrt(np.diag(soln.hess_inv))\n",
    "print(\"Maximum likelihood estimates:\")\n",
    "print(\"b2 = {0:.3f}\".format(b2))\n",
    "print(\"b3 = {0:.3f}\".format(b3))\n",
    "print(\"Covariance matrix:\")\n",
    "print(format(soln.hess_inv))\n",
    "print(\"Uncertainties:\")\n",
    "print(format(err))\n",
    "\n",
    "xx = np.arange(0,10,0.1)\n",
    "p_truth = [1.52, 3]\n",
    "truth = model_peak(xx, *p_truth)\n",
    "guess = model_peak(xx, *initial)\n",
    "fit_ML = model_peak(xx, b2, b3)\n",
    "pyplot.errorbar(data.x, data.y, yerr=data.sigma, fmt='.', label='data')\n",
    "pyplot.plot(xx, truth, 'k-', label='Truth')\n",
    "pyplot.plot(xx, guess, 'g', label='Guess')\n",
    "pyplot.plot(xx, fit_ML, 'r', label='ML fit')\n",
    "pyplot.legend(loc='best')\n",
    "pyplot.xlabel(\"x\")\n",
    "pyplot.ylabel(\"y\")"
   ]
  },
  {
   "cell_type": "markdown",
   "id": "8b384f09",
   "metadata": {},
   "source": [
    "Going back to the more general Bayesian inference, we may wish to explore the shape of the posterior distribution of the model parameters. This provides much more information than just obtaining the _\"best\"_ set of model parameters (assuming the minimiser has even found them): we'll learn for example if there are multiple minima that might provide different possibilities for \"best-fit\" parameters, but also, crucially, how strongly-constrained are the fitted parameters.\n",
    "\n",
    "For this example, we define a simple prior distribution for the parameters, which is constant over a range (it should be normalised to unity, but we are already ignoring a normalising factor in the posterior distribution, which is not important as we are only interested in the shape of the distribution). The logarithm of such priors may be implemented as:"
   ]
  },
  {
   "cell_type": "code",
   "execution_count": 22,
   "id": "a869fbab",
   "metadata": {},
   "outputs": [],
   "source": [
    "def log_prior(theta):\n",
    "    b2, b3 = theta\n",
    "    if  0.1 < b2 < 5.0 and 0.1 < b3 < 5.0 :\n",
    "        return 0.0\n",
    "    return -np.inf\n"
   ]
  },
  {
   "cell_type": "markdown",
   "id": "3134165f",
   "metadata": {},
   "source": [
    "In turn, the posterior distribution is just the product of the prior and the likelihood, which becomes a sum for the log-posterior,"
   ]
  },
  {
   "cell_type": "code",
   "execution_count": 23,
   "id": "10c9783a",
   "metadata": {},
   "outputs": [],
   "source": [
    "\n",
    "def log_posterior(theta, x, y, yerr):\n",
    "    lp = log_prior(theta)\n",
    "    if not np.isfinite(lp):\n",
    "        return -np.inf\n",
    "    return lp + log_likelihood(theta, x, y, yerr)"
   ]
  },
  {
   "cell_type": "markdown",
   "id": "872d692d",
   "metadata": {},
   "source": [
    "Since our problem has only two free parameters, we can evaluate the posterior distribution on a fine grid of parameters to explore its shape. "
   ]
  },
  {
   "cell_type": "code",
   "execution_count": 39,
   "id": "69067450",
   "metadata": {},
   "outputs": [
    {
     "data": {
      "image/png": "[encoded data removed]",
      "text/plain": [
       "<Figure size 432x288 with 1 Axes>"
      ]
     },
     "metadata": {
      "needs_background": "light"
     },
     "output_type": "display_data"
    }
   ],
   "source": [
    "def objective_fun(x, y):\n",
    "    return np.exp(log_posterior([x,y], data.x, data.y, data.sigma))\n",
    "\n",
    "\n",
    "dx, dy = 0.02, 0.015\n",
    "\n",
    "x = np.arange(1, 2.0, dx)\n",
    "y = np.arange(3.5, 2.5, -dy)\n",
    "X, Y = np.meshgrid(x, y)\n",
    "\n",
    "vobjective_fun = np.vectorize(objective_fun)\n",
    "\n",
    "Z = vobjective_fun(X, Y)\n",
    "\n",
    "fig = plt.figure(frameon=False)\n",
    "im = plt.imshow(Z, cmap=plt.cm.viridis,interpolation='bilinear', extent=[x.min(),x.max(),y.min(),y.max()])\n",
    "\n",
    "plt.show()"
   ]
  },
  {
   "cell_type": "markdown",
   "id": "d882efe4",
   "metadata": {},
   "source": [
    "This 2-dimensional map of the objective function reveals a correlation between the fitted parameters, which affects their uncertainty. To summarise the posterior distribution of each parameter independently, we can _marginalise_ by integrating over the other dimension:"
   ]
  },
  {
   "cell_type": "code",
   "execution_count": 53,
   "id": "3dc28cae",
   "metadata": {},
   "outputs": [
    {
     "data": {
      "text/plain": [
       "[<matplotlib.lines.Line2D at 0x7fd1a2e17b50>]"
      ]
     },
     "execution_count": 53,
     "metadata": {},
     "output_type": "execute_result"
    },
    {
     "data": {
      "image/png": "[encoded data removed]",
      "text/plain": [
       "<Figure size 432x288 with 1 Axes>"
      ]
     },
     "metadata": {
      "needs_background": "light"
     },
     "output_type": "display_data"
    }
   ],
   "source": [
    "s3 = Z.sum(axis=1)*dy\n",
    "plt.plot(y,s3)\n",
    "\n",
    "plt.plot([b3 - err[1], b3 + err[1]], [0,0], 'bo', linestyle=\"--\")"
   ]
  },
  {
   "cell_type": "code",
   "execution_count": 54,
   "id": "58f08ff9",
   "metadata": {},
   "outputs": [
    {
     "data": {
      "text/plain": [
       "[<matplotlib.lines.Line2D at 0x7fd1a2ddd750>]"
      ]
     },
     "execution_count": 54,
     "metadata": {},
     "output_type": "execute_result"
    },
    {
     "data": {
      "image/png": "[encoded data removed]",
      "text/plain": [
       "<Figure size 432x288 with 1 Axes>"
      ]
     },
     "metadata": {
      "needs_background": "light"
     },
     "output_type": "display_data"
    }
   ],
   "source": [
    "s2 = Z.sum(axis=0)*dx\n",
    "plt.plot(x,s2)\n",
    "plt.plot([b2 - err[0], b2 + err[0]], [0,0], 'bo', linestyle=\"--\")"
   ]
  },
  {
   "cell_type": "markdown",
   "id": "aa9be6af",
   "metadata": {},
   "source": [
    "(note again that we are only interested in the shape of the distribution; the y scale is not correctly normalised here)\n",
    "\n",
    "We've superimposed as horizontal segments the uncertainty estimated from the covariance matrix returned by the minimizer, which corresponds more or less to 68% of the probability (assuming it is roughly a gaussian)."
   ]
  },
  {
   "cell_type": "markdown",
   "id": "e97119bd",
   "metadata": {},
   "source": [
    "When parameters have more than a couple of parameters, it rapidly becomes impossible to compute the likelihood over a grid of parameters (for example, with just 50 grid points per dimension, we'd need $50^d$ function evaluations in $d$ dimensions, that is $50 (d=1), 2500 (d=2), 125000 (d=3),  6250000 (d=4), 312500000 (d=5)\\dots$.\n",
    "\n",
    "Instead, we may use a powerful class of algorithms known as Markov Chain Monte Carlo methods to _sample_ the posterior density with much fewer function evaluations, but still providing a good representation of its shape. (Of course, some caveats apply). This is the topic of the next workbook."
   ]
  }
 ],
 "metadata": {
  "kernelspec": {
   "display_name": "Python 3 (ipykernel)",
   "language": "python",
   "name": "python3"
  },
  "language_info": {
   "codemirror_mode": {
    "name": "ipython",
    "version": 3
   },
   "file_extension": ".py",
   "mimetype": "text/x-python",
   "name": "python",
   "nbconvert_exporter": "python",
   "pygments_lexer": "ipython3",
   "version": "3.9.12"
  }
 },
 "nbformat": 4,
 "nbformat_minor": 5
}
